{
  "cells": [
    {
      "cell_type": "markdown",
      "metadata": {
        "id": "47thgwF0mRsL"
      },
      "source": [
        "# Model Pipeline\n",
        "\n",
        "[![colab badge](https://colab.research.google.com/assets/colab-badge.svg)](https://colab.research.google.com/github/mcallaghan/NLP-climate-science-tutorial-CCAI/blob/main/B_model_pipeline.ipynb)\n",
        "\n",
        "In this notebook we'll go through the steps we need to take to load labelled data and train a model to predict a label based on text input. We'll start off with a simple model using Support Vector Machines (SVMs), before exploring how we would do this using by fine-tuning a language model using [transformers](https://huggingface.co/docs/transformers/index) 🤗"
      ]
    },
    {
      "cell_type": "markdown",
      "metadata": {
        "tags": [],
        "id": "St7j94zDmRsN"
      },
      "source": [
        "## Data\n",
        "\n",
        "We'll start by loading our labels and merging these with the studies we downloaded from OpenAlex"
      ]
    },
    {
      "cell_type": "code",
      "execution_count": 3,
      "metadata": {
        "id": "QyzOPbVnmRsO",
        "outputId": "49177c20-ea65-4b03-8c9e-ddab85d82851",
        "colab": {
          "base_uri": "https://localhost:8080/"
        }
      },
      "outputs": [
        {
          "output_type": "stream",
          "name": "stdout",
          "text": [
            "Drive already mounted at /content/drive; to attempt to forcibly remount, call drive.mount(\"/content/drive\", force_remount=True).\n"
          ]
        }
      ],
      "source": [
        "import matplotlib.pyplot as plt\n",
        "import numpy as np\n",
        "import pandas as pd\n",
        "import os\n",
        "import re\n",
        "\n",
        "## If we are running in colab, mount google drive and change into the directory we cloned the repository into\n",
        "if os.path.exists(\"/content/\"):\n",
        "    from google.colab import drive\n",
        "    import os\n",
        "    drive.mount('/content/drive')\n",
        "    os.chdir(\"/content/drive/MyDrive/NLP-climate-science-tutorial-CCAI\")"
      ]
    },
    {
      "cell_type": "code",
      "execution_count": 4,
      "metadata": {
        "id": "sxkZswxamRsP",
        "outputId": "67dbabba-63a3-4a08-b708-79de892005f6",
        "colab": {
          "base_uri": "https://localhost:8080/",
          "height": 484
        }
      },
      "outputs": [
        {
          "output_type": "stream",
          "name": "stdout",
          "text": [
            "(2500, 11)\n"
          ]
        },
        {
          "output_type": "execute_result",
          "data": {
            "text/plain": [
              "        id                                           abstract  \\\n",
              "0  1448689  The city of Bismarck, North Dakota has one of ...   \n",
              "1  3281128  Changing precipitation regimes can profoundly ...   \n",
              "2   900708  Climate influences forest structure through ef...   \n",
              "3  3234419  Climate change is likely to bring more, hotter...   \n",
              "4  2090028  Aim The long-term stability of coastal ecosyst...   \n",
              "\n",
              "                                               title  seen  INCLUDE  \\\n",
              "0  Key Factors Influencing the Incidence of West ...   1.0      0.0   \n",
              "1  Asymmetric responses of plant community struct...   1.0      1.0   \n",
              "2  Climate effects on fire regimes and tree recru...   1.0      1.0   \n",
              "3  Climate change adaptation and mitigation ? a h...   1.0      1.0   \n",
              "4  Caribbean mangroves adjust to rising sea level...   1.0      1.0   \n",
              "\n",
              "   12 - Coastal and marine Ecosystems  12 - Human and managed  \\\n",
              "0                                 0.0                     1.0   \n",
              "1                                 0.0                     0.0   \n",
              "2                                 0.0                     0.0   \n",
              "3                                 0.0                     1.0   \n",
              "4                                 1.0                     0.0   \n",
              "\n",
              "   12 - Mountains, snow and ice  12 - Rivers, lakes, and soil moisture  \\\n",
              "0                           0.0                                    0.0   \n",
              "1                           0.0                                    0.0   \n",
              "2                           0.0                                    0.0   \n",
              "3                           0.0                                    0.0   \n",
              "4                           0.0                                    0.0   \n",
              "\n",
              "   12 - Terrestrial ES                                        title_lcase  \n",
              "0                  0.0  keyfactorsinfluencingtheincidenceofwestnilevir...  \n",
              "1                  1.0  asymmetricresponsesofplantcommunitystructurean...  \n",
              "2                  1.0  climateeffectsonfireregimesandtreerecruitmenti...  \n",
              "3                  0.0  climatechangeadaptationandmitigationahitherton...  \n",
              "4                  0.0  caribbeanmangrovesadjusttorisingsealevelthroug...  "
            ],
            "text/html": [
              "\n",
              "  <div id=\"df-f9df832d-1079-48cf-becd-00a302e2251e\" class=\"colab-df-container\">\n",
              "    <div>\n",
              "<style scoped>\n",
              "    .dataframe tbody tr th:only-of-type {\n",
              "        vertical-align: middle;\n",
              "    }\n",
              "\n",
              "    .dataframe tbody tr th {\n",
              "        vertical-align: top;\n",
              "    }\n",
              "\n",
              "    .dataframe thead th {\n",
              "        text-align: right;\n",
              "    }\n",
              "</style>\n",
              "<table border=\"1\" class=\"dataframe\">\n",
              "  <thead>\n",
              "    <tr style=\"text-align: right;\">\n",
              "      <th></th>\n",
              "      <th>id</th>\n",
              "      <th>abstract</th>\n",
              "      <th>title</th>\n",
              "      <th>seen</th>\n",
              "      <th>INCLUDE</th>\n",
              "      <th>12 - Coastal and marine Ecosystems</th>\n",
              "      <th>12 - Human and managed</th>\n",
              "      <th>12 - Mountains, snow and ice</th>\n",
              "      <th>12 - Rivers, lakes, and soil moisture</th>\n",
              "      <th>12 - Terrestrial ES</th>\n",
              "      <th>title_lcase</th>\n",
              "    </tr>\n",
              "  </thead>\n",
              "  <tbody>\n",
              "    <tr>\n",
              "      <th>0</th>\n",
              "      <td>1448689</td>\n",
              "      <td>The city of Bismarck, North Dakota has one of ...</td>\n",
              "      <td>Key Factors Influencing the Incidence of West ...</td>\n",
              "      <td>1.0</td>\n",
              "      <td>0.0</td>\n",
              "      <td>0.0</td>\n",
              "      <td>1.0</td>\n",
              "      <td>0.0</td>\n",
              "      <td>0.0</td>\n",
              "      <td>0.0</td>\n",
              "      <td>keyfactorsinfluencingtheincidenceofwestnilevir...</td>\n",
              "    </tr>\n",
              "    <tr>\n",
              "      <th>1</th>\n",
              "      <td>3281128</td>\n",
              "      <td>Changing precipitation regimes can profoundly ...</td>\n",
              "      <td>Asymmetric responses of plant community struct...</td>\n",
              "      <td>1.0</td>\n",
              "      <td>1.0</td>\n",
              "      <td>0.0</td>\n",
              "      <td>0.0</td>\n",
              "      <td>0.0</td>\n",
              "      <td>0.0</td>\n",
              "      <td>1.0</td>\n",
              "      <td>asymmetricresponsesofplantcommunitystructurean...</td>\n",
              "    </tr>\n",
              "    <tr>\n",
              "      <th>2</th>\n",
              "      <td>900708</td>\n",
              "      <td>Climate influences forest structure through ef...</td>\n",
              "      <td>Climate effects on fire regimes and tree recru...</td>\n",
              "      <td>1.0</td>\n",
              "      <td>1.0</td>\n",
              "      <td>0.0</td>\n",
              "      <td>0.0</td>\n",
              "      <td>0.0</td>\n",
              "      <td>0.0</td>\n",
              "      <td>1.0</td>\n",
              "      <td>climateeffectsonfireregimesandtreerecruitmenti...</td>\n",
              "    </tr>\n",
              "    <tr>\n",
              "      <th>3</th>\n",
              "      <td>3234419</td>\n",
              "      <td>Climate change is likely to bring more, hotter...</td>\n",
              "      <td>Climate change adaptation and mitigation ? a h...</td>\n",
              "      <td>1.0</td>\n",
              "      <td>1.0</td>\n",
              "      <td>0.0</td>\n",
              "      <td>1.0</td>\n",
              "      <td>0.0</td>\n",
              "      <td>0.0</td>\n",
              "      <td>0.0</td>\n",
              "      <td>climatechangeadaptationandmitigationahitherton...</td>\n",
              "    </tr>\n",
              "    <tr>\n",
              "      <th>4</th>\n",
              "      <td>2090028</td>\n",
              "      <td>Aim The long-term stability of coastal ecosyst...</td>\n",
              "      <td>Caribbean mangroves adjust to rising sea level...</td>\n",
              "      <td>1.0</td>\n",
              "      <td>1.0</td>\n",
              "      <td>1.0</td>\n",
              "      <td>0.0</td>\n",
              "      <td>0.0</td>\n",
              "      <td>0.0</td>\n",
              "      <td>0.0</td>\n",
              "      <td>caribbeanmangrovesadjusttorisingsealevelthroug...</td>\n",
              "    </tr>\n",
              "  </tbody>\n",
              "</table>\n",
              "</div>\n",
              "    <div class=\"colab-df-buttons\">\n",
              "\n",
              "  <div class=\"colab-df-container\">\n",
              "    <button class=\"colab-df-convert\" onclick=\"convertToInteractive('df-f9df832d-1079-48cf-becd-00a302e2251e')\"\n",
              "            title=\"Convert this dataframe to an interactive table.\"\n",
              "            style=\"display:none;\">\n",
              "\n",
              "  <svg xmlns=\"http://www.w3.org/2000/svg\" height=\"24px\" viewBox=\"0 -960 960 960\">\n",
              "    <path d=\"M120-120v-720h720v720H120Zm60-500h600v-160H180v160Zm220 220h160v-160H400v160Zm0 220h160v-160H400v160ZM180-400h160v-160H180v160Zm440 0h160v-160H620v160ZM180-180h160v-160H180v160Zm440 0h160v-160H620v160Z\"/>\n",
              "  </svg>\n",
              "    </button>\n",
              "\n",
              "  <style>\n",
              "    .colab-df-container {\n",
              "      display:flex;\n",
              "      gap: 12px;\n",
              "    }\n",
              "\n",
              "    .colab-df-convert {\n",
              "      background-color: #E8F0FE;\n",
              "      border: none;\n",
              "      border-radius: 50%;\n",
              "      cursor: pointer;\n",
              "      display: none;\n",
              "      fill: #1967D2;\n",
              "      height: 32px;\n",
              "      padding: 0 0 0 0;\n",
              "      width: 32px;\n",
              "    }\n",
              "\n",
              "    .colab-df-convert:hover {\n",
              "      background-color: #E2EBFA;\n",
              "      box-shadow: 0px 1px 2px rgba(60, 64, 67, 0.3), 0px 1px 3px 1px rgba(60, 64, 67, 0.15);\n",
              "      fill: #174EA6;\n",
              "    }\n",
              "\n",
              "    .colab-df-buttons div {\n",
              "      margin-bottom: 4px;\n",
              "    }\n",
              "\n",
              "    [theme=dark] .colab-df-convert {\n",
              "      background-color: #3B4455;\n",
              "      fill: #D2E3FC;\n",
              "    }\n",
              "\n",
              "    [theme=dark] .colab-df-convert:hover {\n",
              "      background-color: #434B5C;\n",
              "      box-shadow: 0px 1px 3px 1px rgba(0, 0, 0, 0.15);\n",
              "      filter: drop-shadow(0px 1px 2px rgba(0, 0, 0, 0.3));\n",
              "      fill: #FFFFFF;\n",
              "    }\n",
              "  </style>\n",
              "\n",
              "    <script>\n",
              "      const buttonEl =\n",
              "        document.querySelector('#df-f9df832d-1079-48cf-becd-00a302e2251e button.colab-df-convert');\n",
              "      buttonEl.style.display =\n",
              "        google.colab.kernel.accessAllowed ? 'block' : 'none';\n",
              "\n",
              "      async function convertToInteractive(key) {\n",
              "        const element = document.querySelector('#df-f9df832d-1079-48cf-becd-00a302e2251e');\n",
              "        const dataTable =\n",
              "          await google.colab.kernel.invokeFunction('convertToInteractive',\n",
              "                                                    [key], {});\n",
              "        if (!dataTable) return;\n",
              "\n",
              "        const docLinkHtml = 'Like what you see? Visit the ' +\n",
              "          '<a target=\"_blank\" href=https://colab.research.google.com/notebooks/data_table.ipynb>data table notebook</a>'\n",
              "          + ' to learn more about interactive tables.';\n",
              "        element.innerHTML = '';\n",
              "        dataTable['output_type'] = 'display_data';\n",
              "        await google.colab.output.renderOutput(dataTable, element);\n",
              "        const docLink = document.createElement('div');\n",
              "        docLink.innerHTML = docLinkHtml;\n",
              "        element.appendChild(docLink);\n",
              "      }\n",
              "    </script>\n",
              "  </div>\n",
              "\n",
              "\n",
              "<div id=\"df-182f7901-ad57-4446-a9eb-dd1d4843df1f\">\n",
              "  <button class=\"colab-df-quickchart\" onclick=\"quickchart('df-182f7901-ad57-4446-a9eb-dd1d4843df1f')\"\n",
              "            title=\"Suggest charts\"\n",
              "            style=\"display:none;\">\n",
              "\n",
              "<svg xmlns=\"http://www.w3.org/2000/svg\" height=\"24px\"viewBox=\"0 0 24 24\"\n",
              "     width=\"24px\">\n",
              "    <g>\n",
              "        <path d=\"M19 3H5c-1.1 0-2 .9-2 2v14c0 1.1.9 2 2 2h14c1.1 0 2-.9 2-2V5c0-1.1-.9-2-2-2zM9 17H7v-7h2v7zm4 0h-2V7h2v10zm4 0h-2v-4h2v4z\"/>\n",
              "    </g>\n",
              "</svg>\n",
              "  </button>\n",
              "\n",
              "<style>\n",
              "  .colab-df-quickchart {\n",
              "      --bg-color: #E8F0FE;\n",
              "      --fill-color: #1967D2;\n",
              "      --hover-bg-color: #E2EBFA;\n",
              "      --hover-fill-color: #174EA6;\n",
              "      --disabled-fill-color: #AAA;\n",
              "      --disabled-bg-color: #DDD;\n",
              "  }\n",
              "\n",
              "  [theme=dark] .colab-df-quickchart {\n",
              "      --bg-color: #3B4455;\n",
              "      --fill-color: #D2E3FC;\n",
              "      --hover-bg-color: #434B5C;\n",
              "      --hover-fill-color: #FFFFFF;\n",
              "      --disabled-bg-color: #3B4455;\n",
              "      --disabled-fill-color: #666;\n",
              "  }\n",
              "\n",
              "  .colab-df-quickchart {\n",
              "    background-color: var(--bg-color);\n",
              "    border: none;\n",
              "    border-radius: 50%;\n",
              "    cursor: pointer;\n",
              "    display: none;\n",
              "    fill: var(--fill-color);\n",
              "    height: 32px;\n",
              "    padding: 0;\n",
              "    width: 32px;\n",
              "  }\n",
              "\n",
              "  .colab-df-quickchart:hover {\n",
              "    background-color: var(--hover-bg-color);\n",
              "    box-shadow: 0 1px 2px rgba(60, 64, 67, 0.3), 0 1px 3px 1px rgba(60, 64, 67, 0.15);\n",
              "    fill: var(--button-hover-fill-color);\n",
              "  }\n",
              "\n",
              "  .colab-df-quickchart-complete:disabled,\n",
              "  .colab-df-quickchart-complete:disabled:hover {\n",
              "    background-color: var(--disabled-bg-color);\n",
              "    fill: var(--disabled-fill-color);\n",
              "    box-shadow: none;\n",
              "  }\n",
              "\n",
              "  .colab-df-spinner {\n",
              "    border: 2px solid var(--fill-color);\n",
              "    border-color: transparent;\n",
              "    border-bottom-color: var(--fill-color);\n",
              "    animation:\n",
              "      spin 1s steps(1) infinite;\n",
              "  }\n",
              "\n",
              "  @keyframes spin {\n",
              "    0% {\n",
              "      border-color: transparent;\n",
              "      border-bottom-color: var(--fill-color);\n",
              "      border-left-color: var(--fill-color);\n",
              "    }\n",
              "    20% {\n",
              "      border-color: transparent;\n",
              "      border-left-color: var(--fill-color);\n",
              "      border-top-color: var(--fill-color);\n",
              "    }\n",
              "    30% {\n",
              "      border-color: transparent;\n",
              "      border-left-color: var(--fill-color);\n",
              "      border-top-color: var(--fill-color);\n",
              "      border-right-color: var(--fill-color);\n",
              "    }\n",
              "    40% {\n",
              "      border-color: transparent;\n",
              "      border-right-color: var(--fill-color);\n",
              "      border-top-color: var(--fill-color);\n",
              "    }\n",
              "    60% {\n",
              "      border-color: transparent;\n",
              "      border-right-color: var(--fill-color);\n",
              "    }\n",
              "    80% {\n",
              "      border-color: transparent;\n",
              "      border-right-color: var(--fill-color);\n",
              "      border-bottom-color: var(--fill-color);\n",
              "    }\n",
              "    90% {\n",
              "      border-color: transparent;\n",
              "      border-bottom-color: var(--fill-color);\n",
              "    }\n",
              "  }\n",
              "</style>\n",
              "\n",
              "  <script>\n",
              "    async function quickchart(key) {\n",
              "      const quickchartButtonEl =\n",
              "        document.querySelector('#' + key + ' button');\n",
              "      quickchartButtonEl.disabled = true;  // To prevent multiple clicks.\n",
              "      quickchartButtonEl.classList.add('colab-df-spinner');\n",
              "      try {\n",
              "        const charts = await google.colab.kernel.invokeFunction(\n",
              "            'suggestCharts', [key], {});\n",
              "      } catch (error) {\n",
              "        console.error('Error during call to suggestCharts:', error);\n",
              "      }\n",
              "      quickchartButtonEl.classList.remove('colab-df-spinner');\n",
              "      quickchartButtonEl.classList.add('colab-df-quickchart-complete');\n",
              "    }\n",
              "    (() => {\n",
              "      let quickchartButtonEl =\n",
              "        document.querySelector('#df-182f7901-ad57-4446-a9eb-dd1d4843df1f button');\n",
              "      quickchartButtonEl.style.display =\n",
              "        google.colab.kernel.accessAllowed ? 'block' : 'none';\n",
              "    })();\n",
              "  </script>\n",
              "</div>\n",
              "\n",
              "    </div>\n",
              "  </div>\n"
            ],
            "application/vnd.google.colaboratory.intrinsic+json": {
              "type": "dataframe",
              "variable_name": "labelled_data",
              "summary": "{\n  \"name\": \"labelled_data\",\n  \"rows\": 2500,\n  \"fields\": [\n    {\n      \"column\": \"id\",\n      \"properties\": {\n        \"dtype\": \"number\",\n        \"std\": 1049475,\n        \"min\": 1599,\n        \"max\": 3986635,\n        \"num_unique_values\": 2467,\n        \"samples\": [\n          3308696,\n          22141,\n          2312579\n        ],\n        \"semantic_type\": \"\",\n        \"description\": \"\"\n      }\n    },\n    {\n      \"column\": \"abstract\",\n      \"properties\": {\n        \"dtype\": \"string\",\n        \"num_unique_values\": 2466,\n        \"samples\": [\n          \"Maintaining functionality and ensuring the security of critical infrastructure is one of the critical aspects of national security. Ensuring national security is no longer (not only) a problem of the military security sector, but it is above all a social, socio-political and economic problem. Modern European security research, supported since 2007 [1, 2] by social grant challenges such as H2020-Security Societies [3] or DG Migration and Home Affairs-Terrorism other Security-related [3, 4], aims to: 'protect citizens, society and the economy, as well as infrastructure and services'. These objectives include the protection of critical infrastructure against intentional anthropogenic threats. In this article, we want to introduce the CI-PAC project. This project is a research project funded by the European Commission within the Terrorism and other Security-Related Risks (CIPS) Program. In the context of this article, we would like to point out the possibilities of managerial skills development not only from defined critical infrastructure sectors, but also from various economic sectors such as physical security systems designers and architects of these sites, including relevant governmental organizations, responsible for compliance and review of the Critical infrastructure protection measures [5]. \\u00a9 2019 IEEE.\",\n          \"Global climate change has local implications. Focusing on datasets from the topographically-challenging Karnali river basin in Western Nepal, this research provides an overview of hydro-climatic parameters that have been observed during 1981-2012. The spatial and temporal variability of temperature and precipitation were analyzed in the basin considering the seven available climate stations and 20 precipitation stations distributed in the basin. The non-parametric Mann-Kendall test and Sen's method were used to study the trends in climate data. Results show that the average precipitation in the basin is heterogeneous, and more of the stations trend are decreasing. The precipitation shows decreasing trend by 4.91 mm/year, i.e., around 10% on average. Though the increasing trends were observed in both minimum and maximum temperature, maximum temperature trend is higher than the minimum temperature and the maximum temperature trend during the pre-monsoon season is significantly higher (0.08 degrees C/year). River discharge and precipitation observations were analyzed to understand the rainfall-runoff relationship. The peak discharge (August) is found to be a month late than the peak precipitation (July) over the basin. Although the annual precipitation in most of the stations shows a decreasing trend, there is constant river discharge during the period 1981-2010.\",\n          \"The Greater Horn of Africa region increasingly experiences high risk of water scarcity. A combination of frequent droughts, rapid population growth and rising urbanisation has reduced streamflow and intensified water abstraction, causing water and food shortages. Estimates of future streamflow changes in the region have so far been highly uncertain and evaluations using ground-based measurements are still limited. Here, future streamflow changes are estimated using a distributed hydrological model forced with an ensemble of high-resolution climate simulations produced using the European community Earth-System Model v3.1. The simulated streamflow is evaluated using observed data from 29 stations from river basins across different climate zones in the region. Evaluation results show large sub-regional variations in the performance of simulated streamflow. The sign and magnitude of future streamflow changes vary between climate simulations and river basins, highlighting the uncertainties in the hydrologic projections. Overall, the streamflow projections indicate large (seasonal, long-term mean and extreme) streamflow decreases for all major rivers in Ethiopia and increases in the equatorial parts of the region at the end of the century. The ensemble mean shows a 10 to 25% decrease in the long-term mean flow in Ethiopia and a 10% increase in the equatorial part of the region in 2080s. Similarly, there is a substantial change in high flows in 2080s, with up to - 50% reduction in the northern and 50% increase in the equatorial parts of the region. These findings are critical because the rivers provide water supply to a rapidly changing socio-economy of the region.\"\n        ],\n        \"semantic_type\": \"\",\n        \"description\": \"\"\n      }\n    },\n    {\n      \"column\": \"title\",\n      \"properties\": {\n        \"dtype\": \"string\",\n        \"num_unique_values\": 2467,\n        \"samples\": [\n          \"Climate change impacts on groundwater storage in the Central Valley, California\",\n          \"Linkages among climate change, crop yields and Mexico-US cross-border migration\",\n          \"The impact of past management practices on tidal marsh resilience to sea level rise in the Delaware Estuary\"\n        ],\n        \"semantic_type\": \"\",\n        \"description\": \"\"\n      }\n    },\n    {\n      \"column\": \"seen\",\n      \"properties\": {\n        \"dtype\": \"number\",\n        \"std\": 0.0,\n        \"min\": 1.0,\n        \"max\": 1.0,\n        \"num_unique_values\": 1,\n        \"samples\": [\n          1.0\n        ],\n        \"semantic_type\": \"\",\n        \"description\": \"\"\n      }\n    },\n    {\n      \"column\": \"INCLUDE\",\n      \"properties\": {\n        \"dtype\": \"number\",\n        \"std\": 0.49959791756140504,\n        \"min\": 0.0,\n        \"max\": 1.0,\n        \"num_unique_values\": 2,\n        \"samples\": [\n          1.0\n        ],\n        \"semantic_type\": \"\",\n        \"description\": \"\"\n      }\n    },\n    {\n      \"column\": \"12 - Coastal and marine Ecosystems\",\n      \"properties\": {\n        \"dtype\": \"number\",\n        \"std\": 0.2750281734631579,\n        \"min\": 0.0,\n        \"max\": 1.0,\n        \"num_unique_values\": 2,\n        \"samples\": [\n          1.0\n        ],\n        \"semantic_type\": \"\",\n        \"description\": \"\"\n      }\n    },\n    {\n      \"column\": \"12 - Human and managed\",\n      \"properties\": {\n        \"dtype\": \"number\",\n        \"std\": 0.33010335849687944,\n        \"min\": 0.0,\n        \"max\": 1.0,\n        \"num_unique_values\": 2,\n        \"samples\": [\n          0.0\n        ],\n        \"semantic_type\": \"\",\n        \"description\": \"\"\n      }\n    },\n    {\n      \"column\": \"12 - Mountains, snow and ice\",\n      \"properties\": {\n        \"dtype\": \"number\",\n        \"std\": 0.2558711160158702,\n        \"min\": 0.0,\n        \"max\": 1.0,\n        \"num_unique_values\": 2,\n        \"samples\": [\n          1.0\n        ],\n        \"semantic_type\": \"\",\n        \"description\": \"\"\n      }\n    },\n    {\n      \"column\": \"12 - Rivers, lakes, and soil moisture\",\n      \"properties\": {\n        \"dtype\": \"number\",\n        \"std\": 0.33010335849687905,\n        \"min\": 0.0,\n        \"max\": 1.0,\n        \"num_unique_values\": 2,\n        \"samples\": [\n          1.0\n        ],\n        \"semantic_type\": \"\",\n        \"description\": \"\"\n      }\n    },\n    {\n      \"column\": \"12 - Terrestrial ES\",\n      \"properties\": {\n        \"dtype\": \"number\",\n        \"std\": 0.39519806756237863,\n        \"min\": 0.0,\n        \"max\": 1.0,\n        \"num_unique_values\": 2,\n        \"samples\": [\n          1.0\n        ],\n        \"semantic_type\": \"\",\n        \"description\": \"\"\n      }\n    },\n    {\n      \"column\": \"title_lcase\",\n      \"properties\": {\n        \"dtype\": \"string\",\n        \"num_unique_values\": 2467,\n        \"samples\": [\n          \"climatechangeimpactsongroundwaterstorageinthecentralvalleycalifornia\"\n        ],\n        \"semantic_type\": \"\",\n        \"description\": \"\"\n      }\n    }\n  ]\n}"
            }
          },
          "metadata": {},
          "execution_count": 4
        }
      ],
      "source": [
        "labelled_data = pd.read_csv(\"data/labelled_data.csv\")\n",
        "\n",
        "# We create a lower case version of the title without spaces and punctuation, to allow for merging\n",
        "labelled_data[\"title_lcase\"] = labelled_data[\"title\"].apply(\n",
        "    lambda x: re.sub(\"\\W\", \"\", x).lower()\n",
        ")\n",
        "# We also want to get rid of documents without abstracts, as we can't use these for learning\n",
        "labelled_data = labelled_data.dropna(subset=[\"abstract\"])\n",
        "print(labelled_data.shape)\n",
        "labelled_data.head()"
      ]
    },
    {
      "cell_type": "code",
      "execution_count": 9,
      "metadata": {
        "id": "xKX1uG_imRsR",
        "outputId": "6121e330-8488-4000-dbe2-7eca11ca35d9",
        "colab": {
          "base_uri": "https://localhost:8080/",
          "height": 709
        }
      },
      "outputs": [
        {
          "output_type": "stream",
          "name": "stderr",
          "text": [
            "<ipython-input-9-d8b2790f68b7>:6: SettingWithCopyWarning: \n",
            "A value is trying to be set on a copy of a slice from a DataFrame.\n",
            "Try using .loc[row_indexer,col_indexer] = value instead\n",
            "\n",
            "See the caveats in the documentation: https://pandas.pydata.org/pandas-docs/stable/user_guide/indexing.html#returning-a-view-versus-a-copy\n",
            "  oa_data[\"seen\"] = 0\n"
          ]
        },
        {
          "output_type": "stream",
          "name": "stdout",
          "text": [
            "(13431, 8)\n"
          ]
        },
        {
          "output_type": "execute_result",
          "data": {
            "text/plain": [
              "                               OA_id  \\\n",
              "2   https://openalex.org/W2965395526   \n",
              "4   https://openalex.org/W2916687336   \n",
              "6   https://openalex.org/W2971549129   \n",
              "9   https://openalex.org/W3215116790   \n",
              "11  https://openalex.org/W2969268485   \n",
              "\n",
              "                                                  doi  \\\n",
              "2   https://doi.org/10.5194/isprs-archives-xlii-3-...   \n",
              "4          https://doi.org/10.1007/s00382-019-04676-6   \n",
              "6      https://doi.org/10.1088/1755-1315/323/1/012078   \n",
              "9                                                 NaN   \n",
              "11            https://doi.org/10.18502/kss.v3i21.4976   \n",
              "\n",
              "                                                title  publication_year  \\\n",
              "2    CLIMATE CHANGE IMPACT AND RESPONSE OF RICE YIELD              2019   \n",
              "4   Development and testing of a subgrid glacier m...              2019   \n",
              "6   Integration of multiple methodologies to evalu...              2019   \n",
              "9   Analyses and modeling of ocean currents and wa...              2019   \n",
              "11  Adaptation and Mitigation on Climate Change Th...              2019   \n",
              "\n",
              "                                             abstract  \\\n",
              "2   Abstract. Rice is an important cereal crop and...   \n",
              "4   The aim of this study is to develop and test a...   \n",
              "6   The work presented in this article is part of ...   \n",
              "9   在海洋表面時常有著不同尺度的海氣交互作用，其涵蓋的範圍從區域海域到整個海盆，時間上從短期變動...   \n",
              "11  An anthropogenic and natural cause has contrib...   \n",
              "\n",
              "                                              authors  \\\n",
              "2   M. Rana, K. K. Singh, N. Kumari, J. Sanjay, G....   \n",
              "4     Marjorie Perroud, Marc Fasel, Shawn J. Marshall   \n",
              "6                      A López, L Mabe, C Cantergiani   \n",
              "9                                    林幼淳, Yu-Chun Lin   \n",
              "11  Francis Yolanda, Rita, Citra, Frieda Hariyani,...   \n",
              "\n",
              "                                          title_lcase  seen  \n",
              "2           climatechangeimpactandresponseofriceyield     0  \n",
              "4   developmentandtestingofasubgridglaciermassbala...     0  \n",
              "6   integrationofmultiplemethodologiestoevaluateef...     0  \n",
              "9   analysesandmodelingofoceancurrentsandwavesconn...     0  \n",
              "11  adaptationandmitigationonclimatechangethroughc...     0  "
            ],
            "text/html": [
              "\n",
              "  <div id=\"df-d5480d2f-8b93-4bac-bb93-04346ba3de5d\" class=\"colab-df-container\">\n",
              "    <div>\n",
              "<style scoped>\n",
              "    .dataframe tbody tr th:only-of-type {\n",
              "        vertical-align: middle;\n",
              "    }\n",
              "\n",
              "    .dataframe tbody tr th {\n",
              "        vertical-align: top;\n",
              "    }\n",
              "\n",
              "    .dataframe thead th {\n",
              "        text-align: right;\n",
              "    }\n",
              "</style>\n",
              "<table border=\"1\" class=\"dataframe\">\n",
              "  <thead>\n",
              "    <tr style=\"text-align: right;\">\n",
              "      <th></th>\n",
              "      <th>OA_id</th>\n",
              "      <th>doi</th>\n",
              "      <th>title</th>\n",
              "      <th>publication_year</th>\n",
              "      <th>abstract</th>\n",
              "      <th>authors</th>\n",
              "      <th>title_lcase</th>\n",
              "      <th>seen</th>\n",
              "    </tr>\n",
              "  </thead>\n",
              "  <tbody>\n",
              "    <tr>\n",
              "      <th>2</th>\n",
              "      <td>https://openalex.org/W2965395526</td>\n",
              "      <td>https://doi.org/10.5194/isprs-archives-xlii-3-...</td>\n",
              "      <td>CLIMATE CHANGE IMPACT AND RESPONSE OF RICE YIELD</td>\n",
              "      <td>2019</td>\n",
              "      <td>Abstract. Rice is an important cereal crop and...</td>\n",
              "      <td>M. Rana, K. K. Singh, N. Kumari, J. Sanjay, G....</td>\n",
              "      <td>climatechangeimpactandresponseofriceyield</td>\n",
              "      <td>0</td>\n",
              "    </tr>\n",
              "    <tr>\n",
              "      <th>4</th>\n",
              "      <td>https://openalex.org/W2916687336</td>\n",
              "      <td>https://doi.org/10.1007/s00382-019-04676-6</td>\n",
              "      <td>Development and testing of a subgrid glacier m...</td>\n",
              "      <td>2019</td>\n",
              "      <td>The aim of this study is to develop and test a...</td>\n",
              "      <td>Marjorie Perroud, Marc Fasel, Shawn J. Marshall</td>\n",
              "      <td>developmentandtestingofasubgridglaciermassbala...</td>\n",
              "      <td>0</td>\n",
              "    </tr>\n",
              "    <tr>\n",
              "      <th>6</th>\n",
              "      <td>https://openalex.org/W2971549129</td>\n",
              "      <td>https://doi.org/10.1088/1755-1315/323/1/012078</td>\n",
              "      <td>Integration of multiple methodologies to evalu...</td>\n",
              "      <td>2019</td>\n",
              "      <td>The work presented in this article is part of ...</td>\n",
              "      <td>A López, L Mabe, C Cantergiani</td>\n",
              "      <td>integrationofmultiplemethodologiestoevaluateef...</td>\n",
              "      <td>0</td>\n",
              "    </tr>\n",
              "    <tr>\n",
              "      <th>9</th>\n",
              "      <td>https://openalex.org/W3215116790</td>\n",
              "      <td>NaN</td>\n",
              "      <td>Analyses and modeling of ocean currents and wa...</td>\n",
              "      <td>2019</td>\n",
              "      <td>在海洋表面時常有著不同尺度的海氣交互作用，其涵蓋的範圍從區域海域到整個海盆，時間上從短期變動...</td>\n",
              "      <td>林幼淳, Yu-Chun Lin</td>\n",
              "      <td>analysesandmodelingofoceancurrentsandwavesconn...</td>\n",
              "      <td>0</td>\n",
              "    </tr>\n",
              "    <tr>\n",
              "      <th>11</th>\n",
              "      <td>https://openalex.org/W2969268485</td>\n",
              "      <td>https://doi.org/10.18502/kss.v3i21.4976</td>\n",
              "      <td>Adaptation and Mitigation on Climate Change Th...</td>\n",
              "      <td>2019</td>\n",
              "      <td>An anthropogenic and natural cause has contrib...</td>\n",
              "      <td>Francis Yolanda, Rita, Citra, Frieda Hariyani,...</td>\n",
              "      <td>adaptationandmitigationonclimatechangethroughc...</td>\n",
              "      <td>0</td>\n",
              "    </tr>\n",
              "  </tbody>\n",
              "</table>\n",
              "</div>\n",
              "    <div class=\"colab-df-buttons\">\n",
              "\n",
              "  <div class=\"colab-df-container\">\n",
              "    <button class=\"colab-df-convert\" onclick=\"convertToInteractive('df-d5480d2f-8b93-4bac-bb93-04346ba3de5d')\"\n",
              "            title=\"Convert this dataframe to an interactive table.\"\n",
              "            style=\"display:none;\">\n",
              "\n",
              "  <svg xmlns=\"http://www.w3.org/2000/svg\" height=\"24px\" viewBox=\"0 -960 960 960\">\n",
              "    <path d=\"M120-120v-720h720v720H120Zm60-500h600v-160H180v160Zm220 220h160v-160H400v160Zm0 220h160v-160H400v160ZM180-400h160v-160H180v160Zm440 0h160v-160H620v160ZM180-180h160v-160H180v160Zm440 0h160v-160H620v160Z\"/>\n",
              "  </svg>\n",
              "    </button>\n",
              "\n",
              "  <style>\n",
              "    .colab-df-container {\n",
              "      display:flex;\n",
              "      gap: 12px;\n",
              "    }\n",
              "\n",
              "    .colab-df-convert {\n",
              "      background-color: #E8F0FE;\n",
              "      border: none;\n",
              "      border-radius: 50%;\n",
              "      cursor: pointer;\n",
              "      display: none;\n",
              "      fill: #1967D2;\n",
              "      height: 32px;\n",
              "      padding: 0 0 0 0;\n",
              "      width: 32px;\n",
              "    }\n",
              "\n",
              "    .colab-df-convert:hover {\n",
              "      background-color: #E2EBFA;\n",
              "      box-shadow: 0px 1px 2px rgba(60, 64, 67, 0.3), 0px 1px 3px 1px rgba(60, 64, 67, 0.15);\n",
              "      fill: #174EA6;\n",
              "    }\n",
              "\n",
              "    .colab-df-buttons div {\n",
              "      margin-bottom: 4px;\n",
              "    }\n",
              "\n",
              "    [theme=dark] .colab-df-convert {\n",
              "      background-color: #3B4455;\n",
              "      fill: #D2E3FC;\n",
              "    }\n",
              "\n",
              "    [theme=dark] .colab-df-convert:hover {\n",
              "      background-color: #434B5C;\n",
              "      box-shadow: 0px 1px 3px 1px rgba(0, 0, 0, 0.15);\n",
              "      filter: drop-shadow(0px 1px 2px rgba(0, 0, 0, 0.3));\n",
              "      fill: #FFFFFF;\n",
              "    }\n",
              "  </style>\n",
              "\n",
              "    <script>\n",
              "      const buttonEl =\n",
              "        document.querySelector('#df-d5480d2f-8b93-4bac-bb93-04346ba3de5d button.colab-df-convert');\n",
              "      buttonEl.style.display =\n",
              "        google.colab.kernel.accessAllowed ? 'block' : 'none';\n",
              "\n",
              "      async function convertToInteractive(key) {\n",
              "        const element = document.querySelector('#df-d5480d2f-8b93-4bac-bb93-04346ba3de5d');\n",
              "        const dataTable =\n",
              "          await google.colab.kernel.invokeFunction('convertToInteractive',\n",
              "                                                    [key], {});\n",
              "        if (!dataTable) return;\n",
              "\n",
              "        const docLinkHtml = 'Like what you see? Visit the ' +\n",
              "          '<a target=\"_blank\" href=https://colab.research.google.com/notebooks/data_table.ipynb>data table notebook</a>'\n",
              "          + ' to learn more about interactive tables.';\n",
              "        element.innerHTML = '';\n",
              "        dataTable['output_type'] = 'display_data';\n",
              "        await google.colab.output.renderOutput(dataTable, element);\n",
              "        const docLink = document.createElement('div');\n",
              "        docLink.innerHTML = docLinkHtml;\n",
              "        element.appendChild(docLink);\n",
              "      }\n",
              "    </script>\n",
              "  </div>\n",
              "\n",
              "\n",
              "<div id=\"df-242542ec-d554-48f1-8a16-c60e06e35d60\">\n",
              "  <button class=\"colab-df-quickchart\" onclick=\"quickchart('df-242542ec-d554-48f1-8a16-c60e06e35d60')\"\n",
              "            title=\"Suggest charts\"\n",
              "            style=\"display:none;\">\n",
              "\n",
              "<svg xmlns=\"http://www.w3.org/2000/svg\" height=\"24px\"viewBox=\"0 0 24 24\"\n",
              "     width=\"24px\">\n",
              "    <g>\n",
              "        <path d=\"M19 3H5c-1.1 0-2 .9-2 2v14c0 1.1.9 2 2 2h14c1.1 0 2-.9 2-2V5c0-1.1-.9-2-2-2zM9 17H7v-7h2v7zm4 0h-2V7h2v10zm4 0h-2v-4h2v4z\"/>\n",
              "    </g>\n",
              "</svg>\n",
              "  </button>\n",
              "\n",
              "<style>\n",
              "  .colab-df-quickchart {\n",
              "      --bg-color: #E8F0FE;\n",
              "      --fill-color: #1967D2;\n",
              "      --hover-bg-color: #E2EBFA;\n",
              "      --hover-fill-color: #174EA6;\n",
              "      --disabled-fill-color: #AAA;\n",
              "      --disabled-bg-color: #DDD;\n",
              "  }\n",
              "\n",
              "  [theme=dark] .colab-df-quickchart {\n",
              "      --bg-color: #3B4455;\n",
              "      --fill-color: #D2E3FC;\n",
              "      --hover-bg-color: #434B5C;\n",
              "      --hover-fill-color: #FFFFFF;\n",
              "      --disabled-bg-color: #3B4455;\n",
              "      --disabled-fill-color: #666;\n",
              "  }\n",
              "\n",
              "  .colab-df-quickchart {\n",
              "    background-color: var(--bg-color);\n",
              "    border: none;\n",
              "    border-radius: 50%;\n",
              "    cursor: pointer;\n",
              "    display: none;\n",
              "    fill: var(--fill-color);\n",
              "    height: 32px;\n",
              "    padding: 0;\n",
              "    width: 32px;\n",
              "  }\n",
              "\n",
              "  .colab-df-quickchart:hover {\n",
              "    background-color: var(--hover-bg-color);\n",
              "    box-shadow: 0 1px 2px rgba(60, 64, 67, 0.3), 0 1px 3px 1px rgba(60, 64, 67, 0.15);\n",
              "    fill: var(--button-hover-fill-color);\n",
              "  }\n",
              "\n",
              "  .colab-df-quickchart-complete:disabled,\n",
              "  .colab-df-quickchart-complete:disabled:hover {\n",
              "    background-color: var(--disabled-bg-color);\n",
              "    fill: var(--disabled-fill-color);\n",
              "    box-shadow: none;\n",
              "  }\n",
              "\n",
              "  .colab-df-spinner {\n",
              "    border: 2px solid var(--fill-color);\n",
              "    border-color: transparent;\n",
              "    border-bottom-color: var(--fill-color);\n",
              "    animation:\n",
              "      spin 1s steps(1) infinite;\n",
              "  }\n",
              "\n",
              "  @keyframes spin {\n",
              "    0% {\n",
              "      border-color: transparent;\n",
              "      border-bottom-color: var(--fill-color);\n",
              "      border-left-color: var(--fill-color);\n",
              "    }\n",
              "    20% {\n",
              "      border-color: transparent;\n",
              "      border-left-color: var(--fill-color);\n",
              "      border-top-color: var(--fill-color);\n",
              "    }\n",
              "    30% {\n",
              "      border-color: transparent;\n",
              "      border-left-color: var(--fill-color);\n",
              "      border-top-color: var(--fill-color);\n",
              "      border-right-color: var(--fill-color);\n",
              "    }\n",
              "    40% {\n",
              "      border-color: transparent;\n",
              "      border-right-color: var(--fill-color);\n",
              "      border-top-color: var(--fill-color);\n",
              "    }\n",
              "    60% {\n",
              "      border-color: transparent;\n",
              "      border-right-color: var(--fill-color);\n",
              "    }\n",
              "    80% {\n",
              "      border-color: transparent;\n",
              "      border-right-color: var(--fill-color);\n",
              "      border-bottom-color: var(--fill-color);\n",
              "    }\n",
              "    90% {\n",
              "      border-color: transparent;\n",
              "      border-bottom-color: var(--fill-color);\n",
              "    }\n",
              "  }\n",
              "</style>\n",
              "\n",
              "  <script>\n",
              "    async function quickchart(key) {\n",
              "      const quickchartButtonEl =\n",
              "        document.querySelector('#' + key + ' button');\n",
              "      quickchartButtonEl.disabled = true;  // To prevent multiple clicks.\n",
              "      quickchartButtonEl.classList.add('colab-df-spinner');\n",
              "      try {\n",
              "        const charts = await google.colab.kernel.invokeFunction(\n",
              "            'suggestCharts', [key], {});\n",
              "      } catch (error) {\n",
              "        console.error('Error during call to suggestCharts:', error);\n",
              "      }\n",
              "      quickchartButtonEl.classList.remove('colab-df-spinner');\n",
              "      quickchartButtonEl.classList.add('colab-df-quickchart-complete');\n",
              "    }\n",
              "    (() => {\n",
              "      let quickchartButtonEl =\n",
              "        document.querySelector('#df-242542ec-d554-48f1-8a16-c60e06e35d60 button');\n",
              "      quickchartButtonEl.style.display =\n",
              "        google.colab.kernel.accessAllowed ? 'block' : 'none';\n",
              "    })();\n",
              "  </script>\n",
              "</div>\n",
              "\n",
              "    </div>\n",
              "  </div>\n"
            ],
            "application/vnd.google.colaboratory.intrinsic+json": {
              "type": "dataframe",
              "variable_name": "oa_data",
              "summary": "{\n  \"name\": \"oa_data\",\n  \"rows\": 13431,\n  \"fields\": [\n    {\n      \"column\": \"OA_id\",\n      \"properties\": {\n        \"dtype\": \"string\",\n        \"num_unique_values\": 13431,\n        \"samples\": [\n          \"https://openalex.org/W2107623465\",\n          \"https://openalex.org/W2008770596\",\n          \"https://openalex.org/W4220945960\"\n        ],\n        \"semantic_type\": \"\",\n        \"description\": \"\"\n      }\n    },\n    {\n      \"column\": \"doi\",\n      \"properties\": {\n        \"dtype\": \"string\",\n        \"num_unique_values\": 12740,\n        \"samples\": [\n          \"https://doi.org/10.1146/annurev-ecolsys-112414-054314\",\n          \"https://doi.org/10.5194/hess-16-2123-2012\",\n          \"https://doi.org/10.1038/nature11064\"\n        ],\n        \"semantic_type\": \"\",\n        \"description\": \"\"\n      }\n    },\n    {\n      \"column\": \"title\",\n      \"properties\": {\n        \"dtype\": \"string\",\n        \"num_unique_values\": 13372,\n        \"samples\": [\n          \"Food security: the challenge of increasing wheat yield and the importance of not compromising food safety.\",\n          \"Exploitation and habitat degradation as agents of change within coral reef fish communities\",\n          \"Fire severity, size, and climate associations diverge from historical precedent along an ecological gradient in the Pinale\\u00f1o Mountains, Arizona, USA\"\n        ],\n        \"semantic_type\": \"\",\n        \"description\": \"\"\n      }\n    },\n    {\n      \"column\": \"publication_year\",\n      \"properties\": {\n        \"dtype\": \"number\",\n        \"std\": 8,\n        \"min\": 1935,\n        \"max\": 2022,\n        \"num_unique_values\": 72,\n        \"samples\": [\n          1980,\n          1964,\n          2014\n        ],\n        \"semantic_type\": \"\",\n        \"description\": \"\"\n      }\n    },\n    {\n      \"column\": \"abstract\",\n      \"properties\": {\n        \"dtype\": \"string\",\n        \"num_unique_values\": 13393,\n        \"samples\": [\n          \"Abstract. In this forum paper we discuss how soil scientists can help to reach the recently adopted UN Sustainable Development Goals (SDGs) in most effective manner. Soil science, as a land-related discipline, has important links several of SDGs, which are demonstrated through functions soils and ecosystem services that linked those (see graphical abstract Supplement). We explore rise challenge both internally, terms our procedures practices, externally, relations with colleague other disciplines, diverse groups stakeholders policy arena. To meet these goals recommend following steps be taken by science community whole: (i)\\u00a0embrace they provide platform allows demonstrate its relevance for realizing sustainable society 2030; (ii)\\u00a0show specific value science: research should explicitly show using modern information improve results inter- transdisciplinary studies on SDGs related food security, water scarcity, climate change, biodiversity loss health threats; (iii)\\u00a0take leadership overarching system analysis ecosystems, have an integrated nature places unique position; (iii)\\u00a0raise awareness organic matter key attribute illustrate importance services; (iv)\\u00a0improve transfer knowledge brokers background; (v)\\u00a0start at basis: educational programmes needed all levels, starting primary schools, emphasizing practical, down-to-earth examples; (vi)\\u00a0facilitate communication arena framing resonate politicians cycle or considering drivers, pressures responses affecting impacts land use change; finally (vii)\\u00a0all is only possible if researchers, front lines, look over hedge towards world large arena, reaching listen first, basis genuine collaboration.\",\n          \"Nitrogen management in soils has been considered as key to the sustainable use of terrestrial ecosystems and a protection major ecosystem services. However, microorganisms driving processes like nitrification, denitrification, N-fixation mineralization are highly influenced by changing climatic conditions, intensification agriculture application new chemicals so far unknown extent. In this review, current knowledge concerning influence selected scenarios global change on abundance, diversity activity involved nitrogen turnover, notably agricultural grassland soils, is summarized linked corresponding processes. context, data presented nitrogen-cycling microbial players during development changes functional patterns shifts land use. Furthermore, impact increased temperature, carbon dioxide precipitation regimes turnover discussed. Finally, some examples effects pesticides antibiotics after soil for transformation also shown.\",\n          \"Tropical cyclones have been investigated in a T159 version of the MPI ECHAM5 climate model using novel technique to diagnose evolution three-dimensional vorticity structure tropical cyclones, including their full life cycle from weak initial vortices possible extra-tropical transition. Results compared with re-analyses [the European Centre for Medium-Range Weather Forecasts (ECMWF) 40-yr Re-analysis (ERA40) and Japanese 25 yr re-analysis (JRA25)] observed storms during period 1978\\u20131999 Northern Hemisphere. There is no indication any trend number or intensity this but there are distinct inter-annual variations. The simulated by realistic both space time, even more so re-analyses, underestimate intensities most intense (in terms maximum wind speeds). an response El Nino-Southern Oscillation (ENSO) smaller Atlantic Nino agreement previous studies. global divergence circulation responds setting up large-scale convergence flow, centre over central Pacific enhanced subsidence Atlantic. At same time increase vertical shear region where normally develop. good correspondence between ERA40 except that somewhat stronger model. underestimates tends overestimate them theWestern North Indian Ocean. It suggested overestimation related overly strong sea surface temperature (SST) anomalies. Ocean likely be due prediction monsoon depressions, which then classified as storms. Nevertheless, overall results encouraging will further contribute increased confidence simulating high-resolution models.\"\n        ],\n        \"semantic_type\": \"\",\n        \"description\": \"\"\n      }\n    },\n    {\n      \"column\": \"authors\",\n      \"properties\": {\n        \"dtype\": \"string\",\n        \"num_unique_values\": 13070,\n        \"samples\": [\n          \"Umberto Bernabucci, Nicola Lacetera, Lance H. Baumgard, Robert P. Rhoads, Bruno Ronchi, Alessandro Nardone\",\n          \"William J. de Groot, Mike D. Flannigan, Alan S. Cantin\",\n          \"Shihao Liu, Gi Hoon Hong, Jian Zhang, X. W. Ye, Xiaolu Jiang\"\n        ],\n        \"semantic_type\": \"\",\n        \"description\": \"\"\n      }\n    },\n    {\n      \"column\": \"title_lcase\",\n      \"properties\": {\n        \"dtype\": \"string\",\n        \"num_unique_values\": 13346,\n        \"samples\": [\n          \"geneticsandtheconservationofnaturalpopulationsallozymestogenomes\",\n          \"foodsecurityinaperfectstormusingtheecosystemservicesframeworktoincreaseunderstanding\",\n          \"integratedassessmentofhadleycenterhadcm2climatechangeimpactsonagriculturalproductivityandirrigationwatersupplyintheconterminousunitedstatespartiiregionalagriculturalproductionin2030and2095\"\n        ],\n        \"semantic_type\": \"\",\n        \"description\": \"\"\n      }\n    },\n    {\n      \"column\": \"seen\",\n      \"properties\": {\n        \"dtype\": \"number\",\n        \"std\": 0,\n        \"min\": 0,\n        \"max\": 0,\n        \"num_unique_values\": 1,\n        \"samples\": [\n          0\n        ],\n        \"semantic_type\": \"\",\n        \"description\": \"\"\n      }\n    }\n  ]\n}"
            }
          },
          "metadata": {},
          "execution_count": 9
        }
      ],
      "source": [
        "# Now we load the Open alex data, and create the same title variable for merging\n",
        "import re\n",
        "oa_data = pd.read_csv(\"data/openalex_data.csv\").rename(columns={\"id\": \"OA_id\"})\n",
        "oa_data[\"title_lcase\"] = oa_data[\"title\"].apply(lambda x: re.sub(\"\\W\", \"\", x.lower()) if isinstance(x, str) else \"\")\n",
        "oa_data = oa_data.dropna(subset=[\"abstract\"])\n",
        "oa_data[\"seen\"] = 0\n",
        "print(oa_data.shape)\n",
        "oa_data.head()"
      ]
    },
    {
      "cell_type": "code",
      "execution_count": 10,
      "metadata": {
        "id": "NySOUG5GmRsR",
        "outputId": "f75fc68d-8461-48a6-8443-0f81e74285c2",
        "colab": {
          "base_uri": "https://localhost:8080/",
          "height": 729
        }
      },
      "outputs": [
        {
          "output_type": "stream",
          "name": "stdout",
          "text": [
            "(15640, 15)\n"
          ]
        },
        {
          "output_type": "execute_result",
          "data": {
            "text/plain": [
              "          id                                           abstract  \\\n",
              "0  1448689.0  The city of Bismarck, North Dakota has one of ...   \n",
              "1  3281128.0  Changing precipitation regimes can profoundly ...   \n",
              "2   900708.0  Climate influences forest structure through ef...   \n",
              "3  3234419.0  Climate change is likely to bring more, hotter...   \n",
              "4  2090028.0  Aim The long-term stability of coastal ecosyst...   \n",
              "\n",
              "                                               title  seen  INCLUDE  \\\n",
              "0  Key Factors Influencing the Incidence of West ...   1.0      0.0   \n",
              "1  Asymmetric responses of plant community struct...   1.0      1.0   \n",
              "2  Climate effects on fire regimes and tree recru...   1.0      1.0   \n",
              "3  Climate change adaptation and mitigation ? a h...   1.0      1.0   \n",
              "4  Caribbean mangroves adjust to rising sea level...   1.0      1.0   \n",
              "\n",
              "   12 - Coastal and marine Ecosystems  12 - Human and managed  \\\n",
              "0                                 0.0                     1.0   \n",
              "1                                 0.0                     0.0   \n",
              "2                                 0.0                     0.0   \n",
              "3                                 0.0                     1.0   \n",
              "4                                 1.0                     0.0   \n",
              "\n",
              "   12 - Mountains, snow and ice  12 - Rivers, lakes, and soil moisture  \\\n",
              "0                           0.0                                    0.0   \n",
              "1                           0.0                                    0.0   \n",
              "2                           0.0                                    0.0   \n",
              "3                           0.0                                    0.0   \n",
              "4                           0.0                                    0.0   \n",
              "\n",
              "   12 - Terrestrial ES                                        title_lcase  \\\n",
              "0                  0.0  keyfactorsinfluencingtheincidenceofwestnilevir...   \n",
              "1                  1.0  asymmetricresponsesofplantcommunitystructurean...   \n",
              "2                  1.0  climateeffectsonfireregimesandtreerecruitmenti...   \n",
              "3                  0.0  climatechangeadaptationandmitigationahitherton...   \n",
              "4                  0.0  caribbeanmangrovesadjusttorisingsealevelthroug...   \n",
              "\n",
              "  OA_id  doi  publication_year authors  \n",
              "0   NaN  NaN               NaN     NaN  \n",
              "1   NaN  NaN               NaN     NaN  \n",
              "2   NaN  NaN               NaN     NaN  \n",
              "3   NaN  NaN               NaN     NaN  \n",
              "4   NaN  NaN               NaN     NaN  "
            ],
            "text/html": [
              "\n",
              "  <div id=\"df-d654562d-4bd1-4e10-ac30-b305e00b63c8\" class=\"colab-df-container\">\n",
              "    <div>\n",
              "<style scoped>\n",
              "    .dataframe tbody tr th:only-of-type {\n",
              "        vertical-align: middle;\n",
              "    }\n",
              "\n",
              "    .dataframe tbody tr th {\n",
              "        vertical-align: top;\n",
              "    }\n",
              "\n",
              "    .dataframe thead th {\n",
              "        text-align: right;\n",
              "    }\n",
              "</style>\n",
              "<table border=\"1\" class=\"dataframe\">\n",
              "  <thead>\n",
              "    <tr style=\"text-align: right;\">\n",
              "      <th></th>\n",
              "      <th>id</th>\n",
              "      <th>abstract</th>\n",
              "      <th>title</th>\n",
              "      <th>seen</th>\n",
              "      <th>INCLUDE</th>\n",
              "      <th>12 - Coastal and marine Ecosystems</th>\n",
              "      <th>12 - Human and managed</th>\n",
              "      <th>12 - Mountains, snow and ice</th>\n",
              "      <th>12 - Rivers, lakes, and soil moisture</th>\n",
              "      <th>12 - Terrestrial ES</th>\n",
              "      <th>title_lcase</th>\n",
              "      <th>OA_id</th>\n",
              "      <th>doi</th>\n",
              "      <th>publication_year</th>\n",
              "      <th>authors</th>\n",
              "    </tr>\n",
              "  </thead>\n",
              "  <tbody>\n",
              "    <tr>\n",
              "      <th>0</th>\n",
              "      <td>1448689.0</td>\n",
              "      <td>The city of Bismarck, North Dakota has one of ...</td>\n",
              "      <td>Key Factors Influencing the Incidence of West ...</td>\n",
              "      <td>1.0</td>\n",
              "      <td>0.0</td>\n",
              "      <td>0.0</td>\n",
              "      <td>1.0</td>\n",
              "      <td>0.0</td>\n",
              "      <td>0.0</td>\n",
              "      <td>0.0</td>\n",
              "      <td>keyfactorsinfluencingtheincidenceofwestnilevir...</td>\n",
              "      <td>NaN</td>\n",
              "      <td>NaN</td>\n",
              "      <td>NaN</td>\n",
              "      <td>NaN</td>\n",
              "    </tr>\n",
              "    <tr>\n",
              "      <th>1</th>\n",
              "      <td>3281128.0</td>\n",
              "      <td>Changing precipitation regimes can profoundly ...</td>\n",
              "      <td>Asymmetric responses of plant community struct...</td>\n",
              "      <td>1.0</td>\n",
              "      <td>1.0</td>\n",
              "      <td>0.0</td>\n",
              "      <td>0.0</td>\n",
              "      <td>0.0</td>\n",
              "      <td>0.0</td>\n",
              "      <td>1.0</td>\n",
              "      <td>asymmetricresponsesofplantcommunitystructurean...</td>\n",
              "      <td>NaN</td>\n",
              "      <td>NaN</td>\n",
              "      <td>NaN</td>\n",
              "      <td>NaN</td>\n",
              "    </tr>\n",
              "    <tr>\n",
              "      <th>2</th>\n",
              "      <td>900708.0</td>\n",
              "      <td>Climate influences forest structure through ef...</td>\n",
              "      <td>Climate effects on fire regimes and tree recru...</td>\n",
              "      <td>1.0</td>\n",
              "      <td>1.0</td>\n",
              "      <td>0.0</td>\n",
              "      <td>0.0</td>\n",
              "      <td>0.0</td>\n",
              "      <td>0.0</td>\n",
              "      <td>1.0</td>\n",
              "      <td>climateeffectsonfireregimesandtreerecruitmenti...</td>\n",
              "      <td>NaN</td>\n",
              "      <td>NaN</td>\n",
              "      <td>NaN</td>\n",
              "      <td>NaN</td>\n",
              "    </tr>\n",
              "    <tr>\n",
              "      <th>3</th>\n",
              "      <td>3234419.0</td>\n",
              "      <td>Climate change is likely to bring more, hotter...</td>\n",
              "      <td>Climate change adaptation and mitigation ? a h...</td>\n",
              "      <td>1.0</td>\n",
              "      <td>1.0</td>\n",
              "      <td>0.0</td>\n",
              "      <td>1.0</td>\n",
              "      <td>0.0</td>\n",
              "      <td>0.0</td>\n",
              "      <td>0.0</td>\n",
              "      <td>climatechangeadaptationandmitigationahitherton...</td>\n",
              "      <td>NaN</td>\n",
              "      <td>NaN</td>\n",
              "      <td>NaN</td>\n",
              "      <td>NaN</td>\n",
              "    </tr>\n",
              "    <tr>\n",
              "      <th>4</th>\n",
              "      <td>2090028.0</td>\n",
              "      <td>Aim The long-term stability of coastal ecosyst...</td>\n",
              "      <td>Caribbean mangroves adjust to rising sea level...</td>\n",
              "      <td>1.0</td>\n",
              "      <td>1.0</td>\n",
              "      <td>1.0</td>\n",
              "      <td>0.0</td>\n",
              "      <td>0.0</td>\n",
              "      <td>0.0</td>\n",
              "      <td>0.0</td>\n",
              "      <td>caribbeanmangrovesadjusttorisingsealevelthroug...</td>\n",
              "      <td>NaN</td>\n",
              "      <td>NaN</td>\n",
              "      <td>NaN</td>\n",
              "      <td>NaN</td>\n",
              "    </tr>\n",
              "  </tbody>\n",
              "</table>\n",
              "</div>\n",
              "    <div class=\"colab-df-buttons\">\n",
              "\n",
              "  <div class=\"colab-df-container\">\n",
              "    <button class=\"colab-df-convert\" onclick=\"convertToInteractive('df-d654562d-4bd1-4e10-ac30-b305e00b63c8')\"\n",
              "            title=\"Convert this dataframe to an interactive table.\"\n",
              "            style=\"display:none;\">\n",
              "\n",
              "  <svg xmlns=\"http://www.w3.org/2000/svg\" height=\"24px\" viewBox=\"0 -960 960 960\">\n",
              "    <path d=\"M120-120v-720h720v720H120Zm60-500h600v-160H180v160Zm220 220h160v-160H400v160Zm0 220h160v-160H400v160ZM180-400h160v-160H180v160Zm440 0h160v-160H620v160ZM180-180h160v-160H180v160Zm440 0h160v-160H620v160Z\"/>\n",
              "  </svg>\n",
              "    </button>\n",
              "\n",
              "  <style>\n",
              "    .colab-df-container {\n",
              "      display:flex;\n",
              "      gap: 12px;\n",
              "    }\n",
              "\n",
              "    .colab-df-convert {\n",
              "      background-color: #E8F0FE;\n",
              "      border: none;\n",
              "      border-radius: 50%;\n",
              "      cursor: pointer;\n",
              "      display: none;\n",
              "      fill: #1967D2;\n",
              "      height: 32px;\n",
              "      padding: 0 0 0 0;\n",
              "      width: 32px;\n",
              "    }\n",
              "\n",
              "    .colab-df-convert:hover {\n",
              "      background-color: #E2EBFA;\n",
              "      box-shadow: 0px 1px 2px rgba(60, 64, 67, 0.3), 0px 1px 3px 1px rgba(60, 64, 67, 0.15);\n",
              "      fill: #174EA6;\n",
              "    }\n",
              "\n",
              "    .colab-df-buttons div {\n",
              "      margin-bottom: 4px;\n",
              "    }\n",
              "\n",
              "    [theme=dark] .colab-df-convert {\n",
              "      background-color: #3B4455;\n",
              "      fill: #D2E3FC;\n",
              "    }\n",
              "\n",
              "    [theme=dark] .colab-df-convert:hover {\n",
              "      background-color: #434B5C;\n",
              "      box-shadow: 0px 1px 3px 1px rgba(0, 0, 0, 0.15);\n",
              "      filter: drop-shadow(0px 1px 2px rgba(0, 0, 0, 0.3));\n",
              "      fill: #FFFFFF;\n",
              "    }\n",
              "  </style>\n",
              "\n",
              "    <script>\n",
              "      const buttonEl =\n",
              "        document.querySelector('#df-d654562d-4bd1-4e10-ac30-b305e00b63c8 button.colab-df-convert');\n",
              "      buttonEl.style.display =\n",
              "        google.colab.kernel.accessAllowed ? 'block' : 'none';\n",
              "\n",
              "      async function convertToInteractive(key) {\n",
              "        const element = document.querySelector('#df-d654562d-4bd1-4e10-ac30-b305e00b63c8');\n",
              "        const dataTable =\n",
              "          await google.colab.kernel.invokeFunction('convertToInteractive',\n",
              "                                                    [key], {});\n",
              "        if (!dataTable) return;\n",
              "\n",
              "        const docLinkHtml = 'Like what you see? Visit the ' +\n",
              "          '<a target=\"_blank\" href=https://colab.research.google.com/notebooks/data_table.ipynb>data table notebook</a>'\n",
              "          + ' to learn more about interactive tables.';\n",
              "        element.innerHTML = '';\n",
              "        dataTable['output_type'] = 'display_data';\n",
              "        await google.colab.output.renderOutput(dataTable, element);\n",
              "        const docLink = document.createElement('div');\n",
              "        docLink.innerHTML = docLinkHtml;\n",
              "        element.appendChild(docLink);\n",
              "      }\n",
              "    </script>\n",
              "  </div>\n",
              "\n",
              "\n",
              "<div id=\"df-338622c7-f0d2-4fd9-be78-9463d5190ad9\">\n",
              "  <button class=\"colab-df-quickchart\" onclick=\"quickchart('df-338622c7-f0d2-4fd9-be78-9463d5190ad9')\"\n",
              "            title=\"Suggest charts\"\n",
              "            style=\"display:none;\">\n",
              "\n",
              "<svg xmlns=\"http://www.w3.org/2000/svg\" height=\"24px\"viewBox=\"0 0 24 24\"\n",
              "     width=\"24px\">\n",
              "    <g>\n",
              "        <path d=\"M19 3H5c-1.1 0-2 .9-2 2v14c0 1.1.9 2 2 2h14c1.1 0 2-.9 2-2V5c0-1.1-.9-2-2-2zM9 17H7v-7h2v7zm4 0h-2V7h2v10zm4 0h-2v-4h2v4z\"/>\n",
              "    </g>\n",
              "</svg>\n",
              "  </button>\n",
              "\n",
              "<style>\n",
              "  .colab-df-quickchart {\n",
              "      --bg-color: #E8F0FE;\n",
              "      --fill-color: #1967D2;\n",
              "      --hover-bg-color: #E2EBFA;\n",
              "      --hover-fill-color: #174EA6;\n",
              "      --disabled-fill-color: #AAA;\n",
              "      --disabled-bg-color: #DDD;\n",
              "  }\n",
              "\n",
              "  [theme=dark] .colab-df-quickchart {\n",
              "      --bg-color: #3B4455;\n",
              "      --fill-color: #D2E3FC;\n",
              "      --hover-bg-color: #434B5C;\n",
              "      --hover-fill-color: #FFFFFF;\n",
              "      --disabled-bg-color: #3B4455;\n",
              "      --disabled-fill-color: #666;\n",
              "  }\n",
              "\n",
              "  .colab-df-quickchart {\n",
              "    background-color: var(--bg-color);\n",
              "    border: none;\n",
              "    border-radius: 50%;\n",
              "    cursor: pointer;\n",
              "    display: none;\n",
              "    fill: var(--fill-color);\n",
              "    height: 32px;\n",
              "    padding: 0;\n",
              "    width: 32px;\n",
              "  }\n",
              "\n",
              "  .colab-df-quickchart:hover {\n",
              "    background-color: var(--hover-bg-color);\n",
              "    box-shadow: 0 1px 2px rgba(60, 64, 67, 0.3), 0 1px 3px 1px rgba(60, 64, 67, 0.15);\n",
              "    fill: var(--button-hover-fill-color);\n",
              "  }\n",
              "\n",
              "  .colab-df-quickchart-complete:disabled,\n",
              "  .colab-df-quickchart-complete:disabled:hover {\n",
              "    background-color: var(--disabled-bg-color);\n",
              "    fill: var(--disabled-fill-color);\n",
              "    box-shadow: none;\n",
              "  }\n",
              "\n",
              "  .colab-df-spinner {\n",
              "    border: 2px solid var(--fill-color);\n",
              "    border-color: transparent;\n",
              "    border-bottom-color: var(--fill-color);\n",
              "    animation:\n",
              "      spin 1s steps(1) infinite;\n",
              "  }\n",
              "\n",
              "  @keyframes spin {\n",
              "    0% {\n",
              "      border-color: transparent;\n",
              "      border-bottom-color: var(--fill-color);\n",
              "      border-left-color: var(--fill-color);\n",
              "    }\n",
              "    20% {\n",
              "      border-color: transparent;\n",
              "      border-left-color: var(--fill-color);\n",
              "      border-top-color: var(--fill-color);\n",
              "    }\n",
              "    30% {\n",
              "      border-color: transparent;\n",
              "      border-left-color: var(--fill-color);\n",
              "      border-top-color: var(--fill-color);\n",
              "      border-right-color: var(--fill-color);\n",
              "    }\n",
              "    40% {\n",
              "      border-color: transparent;\n",
              "      border-right-color: var(--fill-color);\n",
              "      border-top-color: var(--fill-color);\n",
              "    }\n",
              "    60% {\n",
              "      border-color: transparent;\n",
              "      border-right-color: var(--fill-color);\n",
              "    }\n",
              "    80% {\n",
              "      border-color: transparent;\n",
              "      border-right-color: var(--fill-color);\n",
              "      border-bottom-color: var(--fill-color);\n",
              "    }\n",
              "    90% {\n",
              "      border-color: transparent;\n",
              "      border-bottom-color: var(--fill-color);\n",
              "    }\n",
              "  }\n",
              "</style>\n",
              "\n",
              "  <script>\n",
              "    async function quickchart(key) {\n",
              "      const quickchartButtonEl =\n",
              "        document.querySelector('#' + key + ' button');\n",
              "      quickchartButtonEl.disabled = true;  // To prevent multiple clicks.\n",
              "      quickchartButtonEl.classList.add('colab-df-spinner');\n",
              "      try {\n",
              "        const charts = await google.colab.kernel.invokeFunction(\n",
              "            'suggestCharts', [key], {});\n",
              "      } catch (error) {\n",
              "        console.error('Error during call to suggestCharts:', error);\n",
              "      }\n",
              "      quickchartButtonEl.classList.remove('colab-df-spinner');\n",
              "      quickchartButtonEl.classList.add('colab-df-quickchart-complete');\n",
              "    }\n",
              "    (() => {\n",
              "      let quickchartButtonEl =\n",
              "        document.querySelector('#df-338622c7-f0d2-4fd9-be78-9463d5190ad9 button');\n",
              "      quickchartButtonEl.style.display =\n",
              "        google.colab.kernel.accessAllowed ? 'block' : 'none';\n",
              "    })();\n",
              "  </script>\n",
              "</div>\n",
              "\n",
              "    </div>\n",
              "  </div>\n"
            ],
            "application/vnd.google.colaboratory.intrinsic+json": {
              "type": "dataframe",
              "variable_name": "df",
              "summary": "{\n  \"name\": \"df\",\n  \"rows\": 15640,\n  \"fields\": [\n    {\n      \"column\": \"id\",\n      \"properties\": {\n        \"dtype\": \"number\",\n        \"std\": 1049475.9666013408,\n        \"min\": 1599.0,\n        \"max\": 3986635.0,\n        \"num_unique_values\": 2467,\n        \"samples\": [\n          3308696.0,\n          22141.0,\n          2312579.0\n        ],\n        \"semantic_type\": \"\",\n        \"description\": \"\"\n      }\n    },\n    {\n      \"column\": \"abstract\",\n      \"properties\": {\n        \"dtype\": \"string\",\n        \"num_unique_values\": 15568,\n        \"samples\": [\n          \"Abstract The authors successfully model and simulate the observed evidence that anomalously high winter/spring Eurasian snow cover is linked to weak rainfall in following summer Indian monsoon. It shown excessive February reduces June September precipitation over India. associated with a monsoon characterized by higher sea level pressure India, weaker Somali jet, lower tropospheric westerlies, upper easterlies. also secondary circulations. remote response reduce strength of trade winds eastern equatorial Pacific Ocean. Energy used melting surface temperature broad region centered around Tibetan Plateau. Reduced sensible heat flux midtropospheric result meridional gra...\",\n          \"Acclimation of leaf respiration to a 3\\u20135-year period warming by 3.4 \\u00b0C for 10 North American tree species in forest conditions eliminated 80% the increase expected non-acclimated trees; this suggests that rates terrestrial plants from climate warming, and associated atmospheric CO2 levels, may be less than anticipated. Increasing plant world might further accelerate releasing additional into atmosphere, but extent which acclimate high temperatures long-term is poorly quantified. Peter Reich et al. have measured acclimation three- five-year (by \\u00b0C) ten conditions. They find trees. This result resulting \\u2014 concentration Plant results an annual flux carbon dioxide (CO2) atmosphere six times as large due emissions fossil fuel burning, so changes either will impact future climate. As responds positively temperature, respiratory release, hence warming1,2. can altered temperatures, however, weakening positive feedback rising global air temperature3,4,5,6,7, lack evidence on (weeks years) field settings currently hinders realistic predictions release under climatic Here we demonstrate strong both experimental seasonal temperature variation juveniles growing several years Plants grown at 3.4\\u2009\\u00b0C above ambient increased average 5% compared temperature; without acclimation, these increases would been 23%. Thus, plants. per degree change was similar variation. Moreover, observed half reported previous studies4,7, were conducted largely over shorter time scales laboratory settings. If such dampening effects thermal occur generally, response predicted, thus not raise concentrations much\",\n          \"Climate change predictions derived from coupled carbon-climate models are highly dependent on assumptions about feedbacks between the biosphere and atmosphere. One critical feedback occurs if C uptake by increases in response to fossil-fuel driven increase atmospheric [CO2] (\\u201cCO2 fertilization\\u201d), thereby slowing rate of [CO2]. Carbon exchanges terrestrial atmosphere often first represented as net primary productivity (NPP). However, contribution CO2 fertilization future global cycle has been uncertain, especially forest ecosystems that dominate NPP, include a metabolism poorly constrained experimental evidence. We analyzed NPP elevated (\\u2248550 ppm) four free-air enrichment experiments stands. show is conserved across broad range productivity, with stimulation at median 23 \\u00b1 2%. At low leaf area indices, large portion was attributable increased light absorption, but indices increased, wholly caused light-use efficiency. The surprising consistency diverse sites provides benchmark evaluate ecosystem allows us now focus unresolved questions carbon partitioning retention, spatial variation availability other growth limiting resources.\"\n        ],\n        \"semantic_type\": \"\",\n        \"description\": \"\"\n      }\n    },\n    {\n      \"column\": \"title\",\n      \"properties\": {\n        \"dtype\": \"string\",\n        \"num_unique_values\": 15548,\n        \"samples\": [\n          \"Projections of rapidly rising surface temperatures over Africa under low mitigation\",\n          \"Evidence for ocean acidification in the Great Barrier Reef of Australia\",\n          \"Impact of expected climate change on mangroves\"\n        ],\n        \"semantic_type\": \"\",\n        \"description\": \"\"\n      }\n    },\n    {\n      \"column\": \"seen\",\n      \"properties\": {\n        \"dtype\": \"number\",\n        \"std\": 0.36647539597117956,\n        \"min\": 0.0,\n        \"max\": 1.0,\n        \"num_unique_values\": 2,\n        \"samples\": [\n          0.0,\n          1.0\n        ],\n        \"semantic_type\": \"\",\n        \"description\": \"\"\n      }\n    },\n    {\n      \"column\": \"INCLUDE\",\n      \"properties\": {\n        \"dtype\": \"number\",\n        \"std\": 0.49959791756140504,\n        \"min\": 0.0,\n        \"max\": 1.0,\n        \"num_unique_values\": 2,\n        \"samples\": [\n          1.0,\n          0.0\n        ],\n        \"semantic_type\": \"\",\n        \"description\": \"\"\n      }\n    },\n    {\n      \"column\": \"12 - Coastal and marine Ecosystems\",\n      \"properties\": {\n        \"dtype\": \"number\",\n        \"std\": 0.2750281734631579,\n        \"min\": 0.0,\n        \"max\": 1.0,\n        \"num_unique_values\": 2,\n        \"samples\": [\n          1.0,\n          0.0\n        ],\n        \"semantic_type\": \"\",\n        \"description\": \"\"\n      }\n    },\n    {\n      \"column\": \"12 - Human and managed\",\n      \"properties\": {\n        \"dtype\": \"number\",\n        \"std\": 0.33010335849687944,\n        \"min\": 0.0,\n        \"max\": 1.0,\n        \"num_unique_values\": 2,\n        \"samples\": [\n          0.0,\n          1.0\n        ],\n        \"semantic_type\": \"\",\n        \"description\": \"\"\n      }\n    },\n    {\n      \"column\": \"12 - Mountains, snow and ice\",\n      \"properties\": {\n        \"dtype\": \"number\",\n        \"std\": 0.2558711160158702,\n        \"min\": 0.0,\n        \"max\": 1.0,\n        \"num_unique_values\": 2,\n        \"samples\": [\n          1.0,\n          0.0\n        ],\n        \"semantic_type\": \"\",\n        \"description\": \"\"\n      }\n    },\n    {\n      \"column\": \"12 - Rivers, lakes, and soil moisture\",\n      \"properties\": {\n        \"dtype\": \"number\",\n        \"std\": 0.33010335849687905,\n        \"min\": 0.0,\n        \"max\": 1.0,\n        \"num_unique_values\": 2,\n        \"samples\": [\n          1.0,\n          0.0\n        ],\n        \"semantic_type\": \"\",\n        \"description\": \"\"\n      }\n    },\n    {\n      \"column\": \"12 - Terrestrial ES\",\n      \"properties\": {\n        \"dtype\": \"number\",\n        \"std\": 0.39519806756237863,\n        \"min\": 0.0,\n        \"max\": 1.0,\n        \"num_unique_values\": 2,\n        \"samples\": [\n          1.0,\n          0.0\n        ],\n        \"semantic_type\": \"\",\n        \"description\": \"\"\n      }\n    },\n    {\n      \"column\": \"title_lcase\",\n      \"properties\": {\n        \"dtype\": \"string\",\n        \"num_unique_values\": 15522,\n        \"samples\": [\n          \"a300kyrrecordofupwellingoffomanduringthelatequaternaryevidenceoftheasiansouthwestmonsoon\",\n          \"currenttechnologyforalertingandwarningtropicalcyclonesinthailand\"\n        ],\n        \"semantic_type\": \"\",\n        \"description\": \"\"\n      }\n    },\n    {\n      \"column\": \"OA_id\",\n      \"properties\": {\n        \"dtype\": \"string\",\n        \"num_unique_values\": 13140,\n        \"samples\": [\n          \"https://openalex.org/W2527268275\",\n          \"https://openalex.org/W2009623812\"\n        ],\n        \"semantic_type\": \"\",\n        \"description\": \"\"\n      }\n    },\n    {\n      \"column\": \"doi\",\n      \"properties\": {\n        \"dtype\": \"string\",\n        \"num_unique_values\": 12449,\n        \"samples\": [\n          \"https://doi.org/10.1007/s00468-008-0258-z\",\n          \"https://doi.org/10.21203/rs.3.rs-20670/v3\"\n        ],\n        \"semantic_type\": \"\",\n        \"description\": \"\"\n      }\n    },\n    {\n      \"column\": \"publication_year\",\n      \"properties\": {\n        \"dtype\": \"number\",\n        \"std\": 8.560285866739289,\n        \"min\": 1935.0,\n        \"max\": 2022.0,\n        \"num_unique_values\": 72,\n        \"samples\": [\n          1980.0,\n          1964.0\n        ],\n        \"semantic_type\": \"\",\n        \"description\": \"\"\n      }\n    },\n    {\n      \"column\": \"authors\",\n      \"properties\": {\n        \"dtype\": \"string\",\n        \"num_unique_values\": 12791,\n        \"samples\": [\n          \"Robin A. Weiss, Anthony J. McMichael\",\n          \"Luke M. Mosley\"\n        ],\n        \"semantic_type\": \"\",\n        \"description\": \"\"\n      }\n    }\n  ]\n}"
            }
          },
          "metadata": {},
          "execution_count": 10
        }
      ],
      "source": [
        "# Now we add the OpenAlex rows which are not in the labelled data to the labelled_data\n",
        "df = pd.concat(\n",
        "    [labelled_data, oa_data[~oa_data[\"title_lcase\"].isin(labelled_data[\"title_lcase\"])]]\n",
        ")\n",
        "print(df.shape)\n",
        "df.head()"
      ]
    },
    {
      "cell_type": "markdown",
      "metadata": {
        "id": "cHrBKP9LmRsS"
      },
      "source": [
        "### Inspecting our labels\n",
        "\n",
        "We can take a quick look at how many of which type of labels we have"
      ]
    },
    {
      "cell_type": "code",
      "execution_count": 11,
      "metadata": {
        "id": "AnU48hhzmRsS",
        "outputId": "439513a5-2163-4c97-8720-7a6ce48a9dc2",
        "colab": {
          "base_uri": "https://localhost:8080/",
          "height": 457
        }
      },
      "outputs": [
        {
          "output_type": "display_data",
          "data": {
            "text/plain": [
              "<Figure size 640x480 with 1 Axes>"
            ],
            "image/png": "[encoded data removed]"
          },
          "metadata": {}
        }
      ],
      "source": [
        "# We can quickly plot how many documents have been labelled, and how many not\n",
        "df.groupby(\"seen\")[\"title\"].count().plot.bar();"
      ]
    },
    {
      "cell_type": "code",
      "execution_count": 12,
      "metadata": {
        "id": "fWgByDiQmRsT",
        "outputId": "c17c0758-3591-4dff-93f3-e760c752a223",
        "colab": {
          "base_uri": "https://localhost:8080/",
          "height": 457
        }
      },
      "outputs": [
        {
          "output_type": "display_data",
          "data": {
            "text/plain": [
              "<Figure size 640x480 with 1 Axes>"
            ],
            "image/png": "[encoded data removed]"
          },
          "metadata": {}
        }
      ],
      "source": [
        "# TODO: I don't understand what the INCLUDE label means, could you explain how a paper would get this designation?\n",
        "# and also plot how many of the labelled docs were included\n",
        "df.groupby(\"INCLUDE\")[\"title\"].count().plot.bar();"
      ]
    },
    {
      "cell_type": "code",
      "execution_count": 13,
      "metadata": {
        "id": "q1eTTEYjmRsT",
        "outputId": "acfc9e5e-cebc-4201-f6fd-2524f077fd6b",
        "colab": {
          "base_uri": "https://localhost:8080/",
          "height": 430
        }
      },
      "outputs": [
        {
          "output_type": "display_data",
          "data": {
            "text/plain": [
              "<Figure size 640x480 with 1 Axes>"
            ],
            "image/png": "[encoded data removed]"
          },
          "metadata": {}
        }
      ],
      "source": [
        "# Finally we can plot how many examples of each impact type we have\n",
        "\n",
        "impacts = [x for x in df.columns if re.match(\"12 -\", x)]\n",
        "df[impacts].sum().plot.barh();"
      ]
    },
    {
      "cell_type": "markdown",
      "metadata": {
        "id": "UZb2wXD-mRsU"
      },
      "source": [
        "## A pipeline for a simple machine learning model\n",
        "\n",
        "Now we want to put together a pipeline for a simple machine learning model. We'll start off by trying to predict the binary INCLUSION label, then move onto the impact type, which is a **multilabel** output. This means each document can be labelled with one or more of the impact types.\n",
        "\n",
        "In each case, though, the first thing we need to do is to encode our text input numerically, so it can be used in our models. To do this, we'll take a look at approaches from the feature extraction module from [scikitlearn](https://scikit-learn.org/stable/modules/classes.html#module-sklearn.feature_extraction.text): `CountVectorizer` and `TfidfVectorizer`."
      ]
    },
    {
      "cell_type": "code",
      "execution_count": 14,
      "metadata": {
        "id": "4FX6q9kxmRsU",
        "outputId": "36653349-e65c-4458-bc2a-52cca0f3e324",
        "colab": {
          "base_uri": "https://localhost:8080/"
        }
      },
      "outputs": [
        {
          "output_type": "execute_result",
          "data": {
            "text/plain": [
              "matrix([[0, 0, 1, 1, 0, 0, 1, 1, 1, 0, 0, 1],\n",
              "        [1, 1, 1, 1, 1, 1, 0, 0, 1, 0, 0, 0],\n",
              "        [0, 0, 2, 1, 0, 0, 0, 0, 0, 1, 1, 0]])"
            ]
          },
          "metadata": {},
          "execution_count": 14
        }
      ],
      "source": [
        "from nltk.stem.porter import PorterStemmer\n",
        "from sklearn.feature_extraction.text import CountVectorizer, TfidfVectorizer\n",
        "\n",
        "# Let's take for now a couple of example texts\n",
        "texts = [\n",
        "    \"Climate change is impacting human systems\",\n",
        "    \"Climate change is caused by fossil fuels\",\n",
        "    \"System change not climate change\",\n",
        "]\n",
        "\n",
        "# We'll instantiate a vectorizer class\n",
        "vectorizer = CountVectorizer()\n",
        "\n",
        "# And apply the fit_transform method to our texts\n",
        "X = vectorizer.fit_transform(texts)\n",
        "\n",
        "# This gives us a matrix of shape n_texts, vocab_size\n",
        "X.todense()"
      ]
    },
    {
      "cell_type": "code",
      "execution_count": 15,
      "metadata": {
        "id": "9lBkGm1JmRsU",
        "outputId": "61bc90c5-c871-4af1-be36-158449a30212",
        "colab": {
          "base_uri": "https://localhost:8080/",
          "height": 472
        }
      },
      "outputs": [
        {
          "output_type": "stream",
          "name": "stdout",
          "text": [
            "[[0 0 1 1 0 0 1 1 1 0 0 1]\n",
            " [1 1 1 1 1 1 0 0 1 0 0 0]\n",
            " [0 0 2 1 0 0 0 0 0 1 1 0]]\n"
          ]
        },
        {
          "output_type": "display_data",
          "data": {
            "text/plain": [
              "<Figure size 640x480 with 2 Axes>"
            ],
            "image/png": "[encoded data removed]"
          },
          "metadata": {}
        }
      ],
      "source": [
        "# The features each column represents can be accessed here\n",
        "features = vectorizer.get_feature_names_out()\n",
        "\n",
        "\n",
        "def visualize_doc_vec(X, features=None):\n",
        "    print(X.todense())\n",
        "    # And we could visualise this simply like this\n",
        "    fig, ax = plt.subplots()\n",
        "    doc_map = ax.imshow(X.todense(), cmap=\"Blues\")\n",
        "    ax.set_xticks(np.arange(len(features)))\n",
        "    ax.set_xticklabels(features, rotation=45, ha=\"right\")\n",
        "    cbar = fig.colorbar(doc_map)\n",
        "\n",
        "\n",
        "visualize_doc_vec(X, features)\n",
        "\n",
        "plt.show()"
      ]
    },
    {
      "cell_type": "markdown",
      "metadata": {
        "id": "wmJCGM5tmRsV"
      },
      "source": [
        "As we can see, each document is a row, each column is a feature. The cells contain the number of times each word occurs in each document.\n",
        "\n",
        "However, by adding a small amount of complexity we can generate a more useful way of representing these texts.\n",
        "\n",
        "Term frequency inverse document frequency ([TF-IDF](https://en.wikipedia.org/wiki/Tf%E2%80%93idf)) gives greater weight to those terms which appear infrequently in the corpus, meaning that very frequent but uninformative terms like \"the\" are given less importance."
      ]
    },
    {
      "cell_type": "code",
      "execution_count": null,
      "metadata": {
        "id": "obHLRCU4mRsV",
        "outputId": "7f47d76d-d927-4632-b4d5-713ff4f833bf"
      },
      "outputs": [
        {
          "name": "stdout",
          "output_type": "stream",
          "text": [
            "[[0.         0.         0.28561676 0.28561676 0.         0.\n",
            "  0.48359121 0.48359121 0.36778358 0.         0.         0.48359121]\n",
            " [0.43535684 0.43535684 0.25712876 0.25712876 0.43535684 0.43535684\n",
            "  0.         0.         0.3311001  0.         0.         0.        ]\n",
            " [0.         0.         0.61046311 0.30523155 0.         0.\n",
            "  0.         0.         0.         0.51680194 0.51680194 0.        ]]\n"
          ]
        },
        {
          "data": {
            "image/png": "[encoded data removed]",
            "text/plain": [
              "<Figure size 432x288 with 2 Axes>"
            ]
          },
          "metadata": {
            "needs_background": "light"
          },
          "output_type": "display_data"
        }
      ],
      "source": [
        "vectorizer = TfidfVectorizer()\n",
        "X = vectorizer.fit_transform(texts)\n",
        "\n",
        "features = vectorizer.get_feature_names_out()\n",
        "\n",
        "visualize_doc_vec(X, features)\n",
        "\n",
        "plt.show()"
      ]
    },
    {
      "cell_type": "markdown",
      "metadata": {
        "id": "aiVH4Yo6mRsW"
      },
      "source": [
        "## Learning from features\n",
        "\n",
        "Support Vector machines work by finding a hyperplane in a multi-dimensional space that separates samples of different classes. The matrix we have visualised above forms our multidimensional space."
      ]
    },
    {
      "cell_type": "code",
      "execution_count": null,
      "metadata": {
        "id": "VAAQlQzRmRsW",
        "outputId": "9912270e-9468-46b2-f06a-f2cd8fa0186a"
      },
      "outputs": [
        {
          "data": {
            "text/plain": [
              "Pipeline(steps=[('vect', TfidfVectorizer()),\n",
              "                ('clf', SVC(class_weight='balanced', probability=True))])"
            ]
          },
          "execution_count": 12,
          "metadata": {},
          "output_type": "execute_result"
        }
      ],
      "source": [
        "from sklearn.pipeline import Pipeline\n",
        "from sklearn.svm import SVC\n",
        "\n",
        "clf = Pipeline(\n",
        "    steps=[\n",
        "        (\"vect\", TfidfVectorizer()),\n",
        "        (\"clf\", SVC(probability=True, class_weight=\"balanced\")),\n",
        "    ]\n",
        ")\n",
        "\n",
        "# We'll slightly expand our list of texts\n",
        "texts, y = zip(\n",
        "    *[\n",
        "        (\"Climate change is impacting human systems\", 1),\n",
        "        (\"Climate change is caused by fossil fuels\", 0),\n",
        "        (\"Agricultural yields are affected by climate change\", 1),\n",
        "        (\"System change not climate change\", 0),\n",
        "        (\"higher temperatures are impacting human health\", 1),\n",
        "        (\"Forest fires are becoming more frequent due to climate change\", 1),\n",
        "        (\"Machine learning can read texts\", 0),\n",
        "        (\"AI can help solve climate change!\", 0),\n",
        "        (\"We need to save gas this winter\", 0),\n",
        "        (\"More frequent droughts are impacting crop yields\", 1),\n",
        "        (\"Many communities are affected by rising sea levels\", 1),\n",
        "        (\"Global emissions continue to rise\", 0),\n",
        "        (\"Ecosystems are increasingly impacted by rising temperatures\", 1),\n",
        "        (\"Emissions from fossil fuels need to decline\", 0),\n",
        "        (\"Anthropogenic climate change is impacting vulnerable communities\", 1),\n",
        "    ]\n",
        ")\n",
        "\n",
        "clf.fit(texts, y)"
      ]
    },
    {
      "cell_type": "code",
      "execution_count": null,
      "metadata": {
        "id": "nqkJLyExmRsW",
        "outputId": "3ecb7a98-659b-4437-d70d-0674b53ac6d4"
      },
      "outputs": [
        {
          "data": {
            "text/plain": [
              "array([1, 0, 0])"
            ]
          },
          "execution_count": 13,
          "metadata": {},
          "output_type": "execute_result"
        }
      ],
      "source": [
        "# We can now use this classifier to make predictions about new texts\n",
        "\n",
        "# Here are a couple of easy examples (easy because they are similar to our examples)\n",
        "new_texts = [\n",
        "    \"climate change is impacting terrestrial ecosystems\",\n",
        "    \"Machine Learning will solve climate change\",\n",
        "    \"Fossil fuels are responsible for rising temperature\",\n",
        "]\n",
        "# We can make predictions about which class the examples belong to\n",
        "clf.predict(new_texts)"
      ]
    },
    {
      "cell_type": "code",
      "execution_count": null,
      "metadata": {
        "id": "bam_KxfImRsX",
        "outputId": "9ebba656-625c-420d-a16e-6d23e5e1fe0b"
      },
      "outputs": [
        {
          "data": {
            "text/plain": [
              "array([[0.52031527, 0.47968473],\n",
              "       [0.39734698, 0.60265302],\n",
              "       [0.44653469, 0.55346531]])"
            ]
          },
          "execution_count": 14,
          "metadata": {},
          "output_type": "execute_result"
        }
      ],
      "source": [
        "# We can also get these as probabilities (which are very unstable with small datasets, and not guaranteed to match the predictions)\n",
        "clf.predict_proba(new_texts)"
      ]
    },
    {
      "cell_type": "code",
      "execution_count": null,
      "metadata": {
        "id": "ICtcJ1vpmRsX",
        "outputId": "b4b646f7-d39e-48bc-b545-519f76a46040"
      },
      "outputs": [
        {
          "data": {
            "text/plain": [
              "array([0.47968473, 0.60265302, 0.55346531])"
            ]
          },
          "execution_count": 15,
          "metadata": {},
          "output_type": "execute_result"
        }
      ],
      "source": [
        "# Each row contains predicted probabilites for each class, in this case 0, and 1\n",
        "\n",
        "# We can get predicted probabilities of being in the INCLUDE class like this\n",
        "clf.predict_proba(new_texts)[:, 1]"
      ]
    },
    {
      "cell_type": "markdown",
      "metadata": {
        "id": "DNpZXbNdmRsX"
      },
      "source": [
        "## Multilabel\n",
        "\n",
        "Multilabel problems are those where any sample can belong to any of the classes (as opposed to multiclass problems where each sample must belong to **exactly 1** class. In our dataset, most documents which were marked as relevant are assigned to one class, with some assigned to two, and very few assigned to three."
      ]
    },
    {
      "cell_type": "code",
      "execution_count": null,
      "metadata": {
        "id": "sbmRLKjKmRsX",
        "outputId": "4b50507d-eedd-410e-fc1e-2a61b35a9bb7"
      },
      "outputs": [
        {
          "data": {
            "image/png": "[encoded data removed]",
            "text/plain": [
              "<Figure size 432x288 with 1 Axes>"
            ]
          },
          "metadata": {
            "needs_background": "light"
          },
          "output_type": "display_data"
        }
      ],
      "source": [
        "plt.hist(df[df[\"INCLUDE\"] == 1][impacts].sum(axis=1));"
      ]
    },
    {
      "cell_type": "markdown",
      "metadata": {
        "id": "Z1b8G3JFmRsX"
      },
      "source": [
        "To prepare our target for the model, we simply create a matrix with a row for each document and a column for each class"
      ]
    },
    {
      "cell_type": "code",
      "execution_count": null,
      "metadata": {
        "id": "PHVgBHr0mRsX",
        "outputId": "697c5b13-db0c-448f-d83c-3a5824d39541"
      },
      "outputs": [
        {
          "data": {
            "text/plain": [
              "array([[0., 0., 1., 0., 0.],\n",
              "       [0., 0., 0., 0., 1.],\n",
              "       [1., 0., 0., 0., 0.],\n",
              "       ...,\n",
              "       [0., 0., 0., 1., 0.],\n",
              "       [0., 0., 0., 0., 1.],\n",
              "       [0., 1., 0., 1., 0.]])"
            ]
          },
          "execution_count": 17,
          "metadata": {},
          "output_type": "execute_result"
        }
      ],
      "source": [
        "# create an x and y variable with a sample of 200 relevant documents\n",
        "samples = df[df[\"INCLUDE\"] == 1].sample(200).index\n",
        "X = df.iloc[samples][\"abstract\"]\n",
        "y = df.iloc[samples][impacts].values\n",
        "np.set_printoptions(threshold=5)\n",
        "y"
      ]
    },
    {
      "cell_type": "markdown",
      "metadata": {
        "id": "2fkNkLIymRsY"
      },
      "source": [
        "Now we just need to slightly amend our pipeline by defining how we want to approach the multilabel problem.\n",
        "\n",
        "We use a One vs Rest classifier which simply creates a binary classifier for each class"
      ]
    },
    {
      "cell_type": "code",
      "execution_count": null,
      "metadata": {
        "id": "Pl_nfBTpmRsY",
        "outputId": "4b252a85-4521-49e3-e326-d66a873d9766"
      },
      "outputs": [
        {
          "data": {
            "text/plain": [
              "Pipeline(steps=[('vec', TfidfVectorizer()),\n",
              "                ('clf',\n",
              "                 OneVsRestClassifier(estimator=SVC(class_weight='balanced',\n",
              "                                                   probability=True)))])"
            ]
          },
          "execution_count": 18,
          "metadata": {},
          "output_type": "execute_result"
        }
      ],
      "source": [
        "from sklearn.multiclass import OneVsRestClassifier\n",
        "\n",
        "clf = Pipeline(\n",
        "    steps=[\n",
        "        (\"vec\", TfidfVectorizer()),\n",
        "        (\"clf\", OneVsRestClassifier(SVC(probability=True, class_weight=\"balanced\"))),\n",
        "    ]\n",
        ")\n",
        "\n",
        "clf.fit(X, y)"
      ]
    },
    {
      "cell_type": "markdown",
      "metadata": {
        "id": "OP-_7gmumRsY"
      },
      "source": [
        "In the same way as before, we can make predictions with some sample texts"
      ]
    },
    {
      "cell_type": "code",
      "execution_count": null,
      "metadata": {
        "id": "yrx2084_mRsY",
        "outputId": "cab9d2c2-bba8-4241-c189-b193257a4226"
      },
      "outputs": [
        {
          "data": {
            "text/html": [
              "<div>\n",
              "<style scoped>\n",
              "    .dataframe tbody tr th:only-of-type {\n",
              "        vertical-align: middle;\n",
              "    }\n",
              "\n",
              "    .dataframe tbody tr th {\n",
              "        vertical-align: top;\n",
              "    }\n",
              "\n",
              "    .dataframe thead th {\n",
              "        text-align: right;\n",
              "    }\n",
              "</style>\n",
              "<table border=\"1\" class=\"dataframe\">\n",
              "  <thead>\n",
              "    <tr style=\"text-align: right;\">\n",
              "      <th></th>\n",
              "      <th>12 - Coastal and marine Ecosystems</th>\n",
              "      <th>12 - Human and managed</th>\n",
              "      <th>12 - Mountains, snow and ice</th>\n",
              "      <th>12 - Rivers, lakes, and soil moisture</th>\n",
              "      <th>12 - Terrestrial ES</th>\n",
              "    </tr>\n",
              "  </thead>\n",
              "  <tbody>\n",
              "    <tr>\n",
              "      <th>0</th>\n",
              "      <td>0</td>\n",
              "      <td>0</td>\n",
              "      <td>0</td>\n",
              "      <td>0</td>\n",
              "      <td>1</td>\n",
              "    </tr>\n",
              "    <tr>\n",
              "      <th>1</th>\n",
              "      <td>0</td>\n",
              "      <td>0</td>\n",
              "      <td>0</td>\n",
              "      <td>0</td>\n",
              "      <td>0</td>\n",
              "    </tr>\n",
              "  </tbody>\n",
              "</table>\n",
              "</div>"
            ],
            "text/plain": [
              "   12 - Coastal and marine Ecosystems  12 - Human and managed  \\\n",
              "0                                   0                       0   \n",
              "1                                   0                       0   \n",
              "\n",
              "   12 - Mountains, snow and ice  12 - Rivers, lakes, and soil moisture  \\\n",
              "0                             0                                      0   \n",
              "1                             0                                      0   \n",
              "\n",
              "   12 - Terrestrial ES  \n",
              "0                    1  \n",
              "1                    0  "
            ]
          },
          "execution_count": 19,
          "metadata": {},
          "output_type": "execute_result"
        }
      ],
      "source": [
        "example_texts = [\n",
        "    \"Climate change has affected butterfly phenology in North America. \"\n",
        "    + \"In an experiment in the butterfly national park, we found that \"\n",
        "    + \"mean dates of appearance had shifted by two weeks. Species traits, \"\n",
        "    + \"especially ecological traits, were found to explain some part of \"\n",
        "    + \"different phenological responses\",\n",
        "    \"Rising temperatures have contributed to increasing heat related mortaility \"\n",
        "    + \"in cities across Europe. \",\n",
        "]\n",
        "y_pred = clf.predict(example_texts)\n",
        "\n",
        "pd.DataFrame(y_pred, columns=impacts)"
      ]
    },
    {
      "cell_type": "markdown",
      "metadata": {
        "id": "3JAF-tLxmRsY"
      },
      "source": [
        "## Transfer learning with transformers!\n",
        "\n",
        "A more powerful way to do classification is to fine-tune a langauge model which has been pretrained on large amounts of text. For an introduction to how these work (which is outside the scope of this tutorial) check out [The Illustrated Transformer](https://jalammar.github.io/illustrated-transformer/).\n",
        "\n",
        "The [Transformers](https://huggingface.co/docs/transformers) library makes doing this really easy, and there are a wealth of models available with different features and which have been pretrained on different corpora. We are going to use [ClimateBert](https://huggingface.co/climatebert), which has undergone additional pretraining on texts from the climate domain (included scientific articles)."
      ]
    },
    {
      "cell_type": "code",
      "execution_count": null,
      "metadata": {
        "id": "si7bzuCYmRsZ"
      },
      "outputs": [],
      "source": [
        "# Let's take our texts and our labels again\n",
        "texts, y = zip(\n",
        "    *[\n",
        "        (\"Climate change is impacting human systems\", 1),\n",
        "        (\"Climate change is caused by fossil fuels\", 0),\n",
        "        (\"Agricultural yields are affected by climate change\", 1),\n",
        "        (\"System change not climate change\", 0),\n",
        "        (\"higher temperatures are impacting human health\", 1),\n",
        "        (\"Forest fires are becoming more frequent due to climate change\", 1),\n",
        "        (\"Machine learning can read texts\", 0),\n",
        "        (\"AI can help solve climate change!\", 0),\n",
        "        (\"We need to save gas this winter\", 0),\n",
        "        (\"More frequent droughts are impacting crop yields\", 1),\n",
        "        (\"Many communities are affected by rising sea levels\", 1),\n",
        "        (\"Global emissions continue to rise\", 0),\n",
        "        (\"Ecosystems are increasingly impacted by rising temperatures\", 1),\n",
        "        (\"Emissions from fossil fuels need to decline\", 0),\n",
        "        (\"Anthropogenic climate change is impacting vulnerable communities\", 1),\n",
        "    ]\n",
        ")"
      ]
    },
    {
      "cell_type": "code",
      "execution_count": null,
      "metadata": {
        "id": "aW9r__LcmRsZ",
        "outputId": "e40de78b-8873-4b4c-d2eb-94c6d4001ecd",
        "colab": {
          "referenced_widgets": [
            "de3a8160d3af44f6ab5a3d94b5361a10"
          ]
        }
      },
      "outputs": [
        {
          "name": "stderr",
          "output_type": "stream",
          "text": [
            "loading file https://huggingface.co/climatebert/distilroberta-base-climate-f/resolve/main/vocab.json from cache at /home/max/.cache/huggingface/transformers/3ba94d8982c0e7ecd7248128e9e8fa5c4eceee0814c8b52f535446a7b1743967.bfdcc444ff249bca1a95ca170ec350b442f81804d7df3a95a2252217574121d7\n",
            "loading file https://huggingface.co/climatebert/distilroberta-base-climate-f/resolve/main/merges.txt from cache at /home/max/.cache/huggingface/transformers/624a724a2a3c05a06900248de445daf260f4d25a0079867ce8e86ce1e9cb02fb.f5b91da9e34259b8f4d88dbc97c740667a0e8430b96314460cdb04e86d4fc435\n",
            "loading file https://huggingface.co/climatebert/distilroberta-base-climate-f/resolve/main/tokenizer.json from cache at /home/max/.cache/huggingface/transformers/386ec1a73d82cb91a321af42898c8bd388502e07fe471389e3a6cd9954f49361.5196e959786990f52908322f6e7c0c5ed92d9a7392df9288c3cc19ec72195a09\n",
            "loading file https://huggingface.co/climatebert/distilroberta-base-climate-f/resolve/main/added_tokens.json from cache at /home/max/.cache/huggingface/transformers/26c0cdff6fb7f4a3172e73dd4eacb227c4b1ca14946b8ee04e6649e96a6b1a36.599233e8481b4c747ff627a0163916aec386bff1160eccb38148806a05073ba2\n",
            "loading file https://huggingface.co/climatebert/distilroberta-base-climate-f/resolve/main/special_tokens_map.json from cache at /home/max/.cache/huggingface/transformers/0d0f5aa9ea47ff8bcb32ae2c264578e3304877ce0516328d659fbd7aff7358b9.a11ebb04664c067c8fe5ef8f8068b0f721263414a26058692f7b2e4ba2a1b342\n",
            "loading file https://huggingface.co/climatebert/distilroberta-base-climate-f/resolve/main/tokenizer_config.json from cache at /home/max/.cache/huggingface/transformers/4cbc153746cc81dd9d3ade89a6db256b4c6fec3db1ffe229a0230bc88a7cb9dd.ac9770e4160784185531ff784ab566428eee6c11907dbaf6ac2a5d6404617533\n"
          ]
        },
        {
          "data": {
            "application/vnd.jupyter.widget-view+json": {
              "model_id": "de3a8160d3af44f6ab5a3d94b5361a10",
              "version_major": 2,
              "version_minor": 0
            },
            "text/plain": [
              "  0%|          | 0/1 [00:00<?, ?ba/s]"
            ]
          },
          "metadata": {},
          "output_type": "display_data"
        },
        {
          "data": {
            "text/plain": [
              "{'text': 'Climate change is impacting human systems',\n",
              " 'label': 1,\n",
              " 'input_ids': [0, 40466, 464, 16, 18081, 1050, 1437, 50333, 2, 1, 1, 1, 1],\n",
              " 'attention_mask': [1, 1, 1, 1, 1, 1, 1, 1, 1, 0, 0, 0, 0]}"
            ]
          },
          "execution_count": 31,
          "metadata": {},
          "output_type": "execute_result"
        }
      ],
      "source": [
        "# To use these with transformers, we are going to need to get them into the right format.\n",
        "from datasets import Dataset\n",
        "from transformers import AutoTokenizer\n",
        "\n",
        "# First we'll put them into a HuggingFace Dataset object\n",
        "dataset = Dataset.from_dict({\"text\": texts, \"label\": y})\n",
        "\n",
        "# And now we need to tokenize the texts, using the pretrained tokenizer from climatebert\n",
        "model_name = \"climatebert/distilroberta-base-climate-f\"\n",
        "tokenizer = AutoTokenizer.from_pretrained(model_name)\n",
        "\n",
        "\n",
        "def tokenize_function(examples):\n",
        "    return tokenizer(examples[\"text\"], padding=\"longest\", truncation=True)\n",
        "\n",
        "\n",
        "tokenized_dataset = dataset.map(tokenize_function, batched=True)\n",
        "tokenized_dataset[0]"
      ]
    },
    {
      "cell_type": "code",
      "execution_count": null,
      "metadata": {
        "id": "m4wgYRdEmRsZ",
        "outputId": "f457b134-9f88-40e0-d83f-7994346939c5",
        "colab": {
          "referenced_widgets": [
            "4291913586054c5cbe72d0cb11b18768"
          ]
        }
      },
      "outputs": [
        {
          "data": {
            "application/vnd.jupyter.widget-view+json": {
              "model_id": "4291913586054c5cbe72d0cb11b18768",
              "version_major": 2,
              "version_minor": 0
            },
            "text/plain": [
              "  0%|          | 0/1 [00:00<?, ?ba/s]"
            ]
          },
          "metadata": {},
          "output_type": "display_data"
        },
        {
          "data": {
            "text/plain": [
              "{'text': 'Climate change is impacting human systems',\n",
              " 'label': 1,\n",
              " 'input_ids': [0, 40466, 464, 16, 18081, 1050, 1437, 50333, 2, 1, 1, 1, 1],\n",
              " 'attention_mask': [1, 1, 1, 1, 1, 1, 1, 1, 1, 0, 0, 0, 0]}"
            ]
          },
          "execution_count": 32,
          "metadata": {},
          "output_type": "execute_result"
        }
      ],
      "source": [
        "# We can wrap this into one function that turns any set of texts (and optional labels)\n",
        "# into a tokenized huggingface dataset\n",
        "def datasetify(x, tokenizer, y=None):\n",
        "    data_dict = {\"text\": x}\n",
        "    if y is not None:\n",
        "        data_dict[\"label\"] = y\n",
        "    dataset = Dataset.from_dict(data_dict)\n",
        "\n",
        "    def tokenize_function(examples):\n",
        "        return tokenizer(examples[\"text\"], padding=\"longest\", truncation=True)\n",
        "\n",
        "    return dataset.map(tokenize_function, batched=True)\n",
        "\n",
        "\n",
        "tokenized_dataset = datasetify(texts, tokenizer, y)\n",
        "tokenized_dataset[0]"
      ]
    },
    {
      "cell_type": "code",
      "execution_count": null,
      "metadata": {
        "id": "yyWWVbBpmRsa",
        "outputId": "a26e7483-a41e-4e4f-93a1-543e8a8dbc0d",
        "colab": {
          "referenced_widgets": [
            "af0c7334eb9b48e9ad60a2edd2e375cc"
          ]
        }
      },
      "outputs": [
        {
          "name": "stderr",
          "output_type": "stream",
          "text": [
            "Some weights of the model checkpoint at climatebert/distilroberta-base-climate-f were not used when initializing RobertaForSequenceClassification: ['lm_head.dense.weight', 'lm_head.layer_norm.bias', 'lm_head.layer_norm.weight', 'lm_head.bias', 'lm_head.dense.bias']\n",
            "- This IS expected if you are initializing RobertaForSequenceClassification from the checkpoint of a model trained on another task or with another architecture (e.g. initializing a BertForSequenceClassification model from a BertForPreTraining model).\n",
            "- This IS NOT expected if you are initializing RobertaForSequenceClassification from the checkpoint of a model that you expect to be exactly identical (initializing a BertForSequenceClassification model from a BertForSequenceClassification model).\n",
            "Some weights of RobertaForSequenceClassification were not initialized from the model checkpoint at climatebert/distilroberta-base-climate-f and are newly initialized: ['classifier.dense.bias', 'classifier.dense.weight', 'classifier.out_proj.bias', 'classifier.out_proj.weight']\n",
            "You should probably TRAIN this model on a down-stream task to be able to use it for predictions and inference.\n"
          ]
        },
        {
          "data": {
            "application/vnd.jupyter.widget-view+json": {
              "model_id": "af0c7334eb9b48e9ad60a2edd2e375cc",
              "version_major": 2,
              "version_minor": 0
            },
            "text/plain": [
              "  0%|          | 0/1 [00:00<?, ?ba/s]"
            ]
          },
          "metadata": {},
          "output_type": "display_data"
        },
        {
          "name": "stderr",
          "output_type": "stream",
          "text": [
            "The following columns in the training set don't have a corresponding argument in `RobertaForSequenceClassification.forward` and have been ignored: text. If text are not expected by `RobertaForSequenceClassification.forward`,  you can safely ignore this message.\n",
            "***** Running training *****\n",
            "  Num examples = 15\n",
            "  Num Epochs = 3\n",
            "  Instantaneous batch size per device = 8\n",
            "  Total train batch size (w. parallel, distributed & accumulation) = 8\n",
            "  Gradient Accumulation steps = 1\n",
            "  Total optimization steps = 6\n"
          ]
        },
        {
          "data": {
            "text/html": [
              "\n",
              "    <div>\n",
              "      \n",
              "      <progress value='6' max='6' style='width:300px; height:20px; vertical-align: middle;'></progress>\n",
              "      [6/6 00:03, Epoch 3/3]\n",
              "    </div>\n",
              "    <table border=\"1\" class=\"dataframe\">\n",
              "  <thead>\n",
              " <tr style=\"text-align: left;\">\n",
              "      <th>Step</th>\n",
              "      <th>Training Loss</th>\n",
              "    </tr>\n",
              "  </thead>\n",
              "  <tbody>\n",
              "  </tbody>\n",
              "</table><p>"
            ],
            "text/plain": [
              "<IPython.core.display.HTML object>"
            ]
          },
          "metadata": {},
          "output_type": "display_data"
        },
        {
          "name": "stderr",
          "output_type": "stream",
          "text": [
            "\n",
            "\n",
            "Training completed. Do not forget to share your model on huggingface.co/models =)\n",
            "\n",
            "\n"
          ]
        },
        {
          "data": {
            "text/plain": [
              "TrainOutput(global_step=6, training_loss=0.6805674235026041, metrics={'train_runtime': 4.2459, 'train_samples_per_second': 10.598, 'train_steps_per_second': 1.413, 'total_flos': 151354351980.0, 'train_loss': 0.6805674235026041, 'epoch': 3.0})"
            ]
          },
          "execution_count": 35,
          "metadata": {},
          "output_type": "execute_result"
        }
      ],
      "source": [
        "# Now we want to load our model, and instantiate a Trainer class\n",
        "from transformers import AutoModelForSequenceClassification, Trainer, logging\n",
        "\n",
        "logging.set_verbosity_warning()\n",
        "\n",
        "# We set num_labels to 2 for binary classification, as we have two classes - positive and negative\n",
        "model = AutoModelForSequenceClassification.from_pretrained(model_name, num_labels=2)\n",
        "# The trainer class needs to be supplied with a model, and a dataset (and will also accept TrainingArguments and validation data)\n",
        "trainer = Trainer(model=model, train_dataset=datasetify(texts, tokenizer, y))\n",
        "# Once this has been instantiated we can apply the train() method\n",
        "trainer.train()"
      ]
    },
    {
      "cell_type": "code",
      "execution_count": null,
      "metadata": {
        "id": "K59UdSb5mRsb",
        "outputId": "8c9df2b3-b489-41f2-9f69-6328330a26df",
        "colab": {
          "referenced_widgets": [
            "94216ae7080f45998790b92367d61c32"
          ]
        }
      },
      "outputs": [
        {
          "data": {
            "application/vnd.jupyter.widget-view+json": {
              "model_id": "94216ae7080f45998790b92367d61c32",
              "version_major": 2,
              "version_minor": 0
            },
            "text/plain": [
              "  0%|          | 0/1 [00:00<?, ?ba/s]"
            ]
          },
          "metadata": {},
          "output_type": "display_data"
        },
        {
          "name": "stderr",
          "output_type": "stream",
          "text": [
            "The following columns in the test set don't have a corresponding argument in `RobertaForSequenceClassification.forward` and have been ignored: text. If text are not expected by `RobertaForSequenceClassification.forward`,  you can safely ignore this message.\n",
            "***** Running Prediction *****\n",
            "  Num examples = 3\n",
            "  Batch size = 8\n"
          ]
        },
        {
          "data": {
            "text/html": [],
            "text/plain": [
              "<IPython.core.display.HTML object>"
            ]
          },
          "metadata": {},
          "output_type": "display_data"
        },
        {
          "data": {
            "text/plain": [
              "PredictionOutput(predictions=array([[ 0.03344734,  0.04020789],\n",
              "       [ 0.08351195, -0.0437724 ],\n",
              "       [ 0.06292889, -0.0039019 ]], dtype=float32), label_ids=array([1, 0, 0]), metrics={'test_loss': 0.6605305075645447, 'test_runtime': 0.043, 'test_samples_per_second': 69.692, 'test_steps_per_second': 23.231})"
            ]
          },
          "execution_count": 36,
          "metadata": {},
          "output_type": "execute_result"
        }
      ],
      "source": [
        "# To generate predictions, we just need to supply a dataset to the predict method\n",
        "new_texts = [\n",
        "    \"climate change is impacting terrestrial ecosystems\",\n",
        "    \"Machine Learning will solve climate change\",\n",
        "    \"Fossil fuels are responsible for rising temperature\",\n",
        "]\n",
        "\n",
        "\n",
        "pred = trainer.predict(datasetify(new_texts, tokenizer, [1, 0, 0]))\n",
        "pred"
      ]
    },
    {
      "cell_type": "code",
      "execution_count": null,
      "metadata": {
        "id": "8s9RYgBmmRsb"
      },
      "outputs": [],
      "source": []
    },
    {
      "cell_type": "code",
      "execution_count": null,
      "metadata": {
        "id": "iqGNAxtbmRsc",
        "outputId": "4d75ff90-0d99-44a9-ed28-398e143061e8"
      },
      "outputs": [
        {
          "name": "stderr",
          "output_type": "stream",
          "text": [
            "/tmp/ipykernel_20245/30200511.py:10: UserWarning: Implicit dimension choice for softmax has been deprecated. Change the call to include dim=X as an argument.\n",
            "  activation(tensor(pred.predictions))\n"
          ]
        },
        {
          "data": {
            "text/plain": [
              "tensor([[0.4983, 0.5017],\n",
              "        [0.5318, 0.4682],\n",
              "        [0.5167, 0.4833]])"
            ]
          },
          "execution_count": 38,
          "metadata": {},
          "output_type": "execute_result"
        }
      ],
      "source": [
        "# However, the model output gives us logits. If these are negative, then the prediction\n",
        "# is negative, if they are positive, the prediction is positive.\n",
        "# We can turn these into probabilities with an activation function\n",
        "from torch import tensor\n",
        "from torch.nn import Sigmoid, Softmax\n",
        "\n",
        "activation = (\n",
        "    Softmax()\n",
        ")  # Since we have two exclusive classes, we use the Softmax function\n",
        "activation(tensor(pred.predictions))"
      ]
    },
    {
      "cell_type": "code",
      "execution_count": null,
      "metadata": {
        "id": "sIxFxSoLmRsd",
        "outputId": "43bfdeab-7388-4ea6-834d-dd151a68982f",
        "colab": {
          "referenced_widgets": [
            "4c316a0b5b1e474f8144dd781eaf2440",
            "c0a3e24884994a6da153a001de727123"
          ]
        }
      },
      "outputs": [
        {
          "data": {
            "application/vnd.jupyter.widget-view+json": {
              "model_id": "4c316a0b5b1e474f8144dd781eaf2440",
              "version_major": 2,
              "version_minor": 0
            },
            "text/plain": [
              "  0%|          | 0/1 [00:00<?, ?ba/s]"
            ]
          },
          "metadata": {},
          "output_type": "display_data"
        },
        {
          "name": "stderr",
          "output_type": "stream",
          "text": [
            "No `TrainingArguments` passed, using `output_dir=tmp_trainer`.\n",
            "PyTorch: setting up devices\n",
            "The default value for the training argument `--report_to` will change in v5 (from all installed integrations to none). In v5, you will need to use `--report_to all` to get the same behavior as now. You should start updating your code and make this info disappear :-).\n",
            "The following columns in the training set don't have a corresponding argument in `RobertaForSequenceClassification.forward` and have been ignored: text. If text are not expected by `RobertaForSequenceClassification.forward`,  you can safely ignore this message.\n",
            "***** Running training *****\n",
            "  Num examples = 15\n",
            "  Num Epochs = 3\n",
            "  Instantaneous batch size per device = 8\n",
            "  Total train batch size (w. parallel, distributed & accumulation) = 8\n",
            "  Gradient Accumulation steps = 1\n",
            "  Total optimization steps = 6\n"
          ]
        },
        {
          "data": {
            "text/html": [
              "\n",
              "    <div>\n",
              "      \n",
              "      <progress value='6' max='6' style='width:300px; height:20px; vertical-align: middle;'></progress>\n",
              "      [6/6 00:03, Epoch 3/3]\n",
              "    </div>\n",
              "    <table border=\"1\" class=\"dataframe\">\n",
              "  <thead>\n",
              " <tr style=\"text-align: left;\">\n",
              "      <th>Step</th>\n",
              "      <th>Training Loss</th>\n",
              "    </tr>\n",
              "  </thead>\n",
              "  <tbody>\n",
              "  </tbody>\n",
              "</table><p>"
            ],
            "text/plain": [
              "<IPython.core.display.HTML object>"
            ]
          },
          "metadata": {},
          "output_type": "display_data"
        },
        {
          "name": "stderr",
          "output_type": "stream",
          "text": [
            "\n",
            "\n",
            "Training completed. Do not forget to share your model on huggingface.co/models =)\n",
            "\n",
            "\n"
          ]
        },
        {
          "data": {
            "application/vnd.jupyter.widget-view+json": {
              "model_id": "c0a3e24884994a6da153a001de727123",
              "version_major": 2,
              "version_minor": 0
            },
            "text/plain": [
              "  0%|          | 0/1 [00:00<?, ?ba/s]"
            ]
          },
          "metadata": {},
          "output_type": "display_data"
        },
        {
          "name": "stderr",
          "output_type": "stream",
          "text": [
            "The following columns in the test set don't have a corresponding argument in `RobertaForSequenceClassification.forward` and have been ignored: text. If text are not expected by `RobertaForSequenceClassification.forward`,  you can safely ignore this message.\n",
            "***** Running Prediction *****\n",
            "  Num examples = 3\n",
            "  Batch size = 8\n"
          ]
        },
        {
          "data": {
            "text/html": [],
            "text/plain": [
              "<IPython.core.display.HTML object>"
            ]
          },
          "metadata": {},
          "output_type": "display_data"
        },
        {
          "name": "stderr",
          "output_type": "stream",
          "text": [
            "/tmp/ipykernel_20245/3742539908.py:13: UserWarning: Implicit dimension choice for softmax has been deprecated. Change the call to include dim=X as an argument.\n",
            "  return activation(tensor(logits)).numpy()\n"
          ]
        },
        {
          "data": {
            "text/plain": [
              "array([[0.40779403, 0.59220594],\n",
              "       [0.61067414, 0.38932583],\n",
              "       [0.5248192 , 0.47518077]], dtype=float32)"
            ]
          },
          "execution_count": 39,
          "metadata": {},
          "output_type": "execute_result"
        }
      ],
      "source": [
        "# If we want to always get probabilities, we can subclass Trainer and add a new predict_proba method\n",
        "\n",
        "from transformers.trainer_utils import PredictionOutput\n",
        "\n",
        "\n",
        "class ProbTrainer(Trainer):\n",
        "    def predict_proba(self, test_dataset: Dataset) -> PredictionOutput:\n",
        "        logits = self.predict(test_dataset).predictions\n",
        "        if logits.shape[1] > 2:\n",
        "            activation = Sigmoid()\n",
        "        else:\n",
        "            activation = Softmax()\n",
        "        return activation(tensor(logits)).numpy()\n",
        "\n",
        "\n",
        "trainer = ProbTrainer(model=model, train_dataset=datasetify(texts, tokenizer, y))\n",
        "trainer.train()\n",
        "\n",
        "pred = trainer.predict_proba(datasetify(new_texts, tokenizer))\n",
        "pred"
      ]
    },
    {
      "cell_type": "code",
      "execution_count": null,
      "metadata": {
        "id": "lksovVsLmRse",
        "outputId": "4e89f04e-296c-4ded-a19d-f5a31ef4d8a7"
      },
      "outputs": [
        {
          "data": {
            "text/plain": [
              "array([[0., 1., 0., 0., 0.],\n",
              "       [0., 0., 0., 0., 1.],\n",
              "       [0., 0., 0., 0., 1.],\n",
              "       [0., 0., 0., 0., 1.],\n",
              "       [0., 0., 0., 1., 0.]])"
            ]
          },
          "execution_count": 40,
          "metadata": {},
          "output_type": "execute_result"
        }
      ],
      "source": [
        "### To do multilabel learning, we just need the data in the same format as before\n",
        "# create an x and y variable with a sample of 200 relevant documents\n",
        "samples = df[df[\"INCLUDE\"] == 1].sample(5).index\n",
        "X = df.iloc[samples][\"abstract\"]\n",
        "y = df.iloc[samples][impacts].values\n",
        "y"
      ]
    },
    {
      "cell_type": "code",
      "execution_count": null,
      "metadata": {
        "id": "4QTCFtIJmRse",
        "outputId": "27461d36-0b17-4308-df98-1d8595f1b62f",
        "colab": {
          "referenced_widgets": [
            "ea69fa74ffad44f98d808529c608efcf",
            "fa0ce3b0d9214409a2727045ba7ad717"
          ]
        }
      },
      "outputs": [
        {
          "name": "stderr",
          "output_type": "stream",
          "text": [
            "loading configuration file https://huggingface.co/climatebert/distilroberta-base-climate-f/resolve/main/config.json from cache at /home/max/.cache/huggingface/transformers/82c3d717cd158a55810d12484b95ea019844ecb6e5e860ead378d0d98b2c190a.2ae894217f03434702f7a4881de106e5bd76e3f3bd6ee1f81fd1551c47bc898d\n",
            "Model config RobertaConfig {\n",
            "  \"_name_or_path\": \"climatebert/distilroberta-base-climate-f\",\n",
            "  \"architectures\": [\n",
            "    \"RobertaForMaskedLM\"\n",
            "  ],\n",
            "  \"attention_probs_dropout_prob\": 0.1,\n",
            "  \"bos_token_id\": 0,\n",
            "  \"classifier_dropout\": null,\n",
            "  \"eos_token_id\": 2,\n",
            "  \"gradient_checkpointing\": false,\n",
            "  \"hidden_act\": \"gelu\",\n",
            "  \"hidden_dropout_prob\": 0.1,\n",
            "  \"hidden_size\": 768,\n",
            "  \"id2label\": {\n",
            "    \"0\": \"LABEL_0\",\n",
            "    \"1\": \"LABEL_1\",\n",
            "    \"2\": \"LABEL_2\",\n",
            "    \"3\": \"LABEL_3\",\n",
            "    \"4\": \"LABEL_4\"\n",
            "  },\n",
            "  \"initializer_range\": 0.02,\n",
            "  \"intermediate_size\": 3072,\n",
            "  \"label2id\": {\n",
            "    \"LABEL_0\": 0,\n",
            "    \"LABEL_1\": 1,\n",
            "    \"LABEL_2\": 2,\n",
            "    \"LABEL_3\": 3,\n",
            "    \"LABEL_4\": 4\n",
            "  },\n",
            "  \"layer_norm_eps\": 1e-05,\n",
            "  \"max_position_embeddings\": 514,\n",
            "  \"model_type\": \"roberta\",\n",
            "  \"num_attention_heads\": 12,\n",
            "  \"num_hidden_layers\": 6,\n",
            "  \"pad_token_id\": 1,\n",
            "  \"position_embedding_type\": \"absolute\",\n",
            "  \"torch_dtype\": \"float32\",\n",
            "  \"transformers_version\": \"4.21.0\",\n",
            "  \"type_vocab_size\": 1,\n",
            "  \"use_cache\": true,\n",
            "  \"vocab_size\": 50500\n",
            "}\n",
            "\n",
            "loading weights file https://huggingface.co/climatebert/distilroberta-base-climate-f/resolve/main/pytorch_model.bin from cache at /home/max/.cache/huggingface/transformers/f50916dff9be1ef97fc437217e252e99e9d273f5969582cf5def713eefbc317b.343bfeb818d63c0395be7e8da5738f7efad9e8bfb41b105b6db62aa916cfb668\n",
            "Some weights of the model checkpoint at climatebert/distilroberta-base-climate-f were not used when initializing RobertaForSequenceClassification: ['lm_head.dense.weight', 'lm_head.layer_norm.bias', 'lm_head.layer_norm.weight', 'lm_head.bias', 'lm_head.dense.bias']\n",
            "- This IS expected if you are initializing RobertaForSequenceClassification from the checkpoint of a model trained on another task or with another architecture (e.g. initializing a BertForSequenceClassification model from a BertForPreTraining model).\n",
            "- This IS NOT expected if you are initializing RobertaForSequenceClassification from the checkpoint of a model that you expect to be exactly identical (initializing a BertForSequenceClassification model from a BertForSequenceClassification model).\n",
            "Some weights of RobertaForSequenceClassification were not initialized from the model checkpoint at climatebert/distilroberta-base-climate-f and are newly initialized: ['classifier.dense.bias', 'classifier.dense.weight', 'classifier.out_proj.bias', 'classifier.out_proj.weight']\n",
            "You should probably TRAIN this model on a down-stream task to be able to use it for predictions and inference.\n"
          ]
        },
        {
          "data": {
            "application/vnd.jupyter.widget-view+json": {
              "model_id": "ea69fa74ffad44f98d808529c608efcf",
              "version_major": 2,
              "version_minor": 0
            },
            "text/plain": [
              "  0%|          | 0/1 [00:00<?, ?ba/s]"
            ]
          },
          "metadata": {},
          "output_type": "display_data"
        },
        {
          "name": "stderr",
          "output_type": "stream",
          "text": [
            "No `TrainingArguments` passed, using `output_dir=tmp_trainer`.\n",
            "PyTorch: setting up devices\n",
            "The default value for the training argument `--report_to` will change in v5 (from all installed integrations to none). In v5, you will need to use `--report_to all` to get the same behavior as now. You should start updating your code and make this info disappear :-).\n",
            "The following columns in the training set don't have a corresponding argument in `RobertaForSequenceClassification.forward` and have been ignored: text. If text are not expected by `RobertaForSequenceClassification.forward`,  you can safely ignore this message.\n",
            "***** Running training *****\n",
            "  Num examples = 5\n",
            "  Num Epochs = 3\n",
            "  Instantaneous batch size per device = 8\n",
            "  Total train batch size (w. parallel, distributed & accumulation) = 8\n",
            "  Gradient Accumulation steps = 1\n",
            "  Total optimization steps = 3\n"
          ]
        },
        {
          "data": {
            "text/html": [
              "\n",
              "    <div>\n",
              "      \n",
              "      <progress value='3' max='3' style='width:300px; height:20px; vertical-align: middle;'></progress>\n",
              "      [3/3 00:11, Epoch 3/3]\n",
              "    </div>\n",
              "    <table border=\"1\" class=\"dataframe\">\n",
              "  <thead>\n",
              " <tr style=\"text-align: left;\">\n",
              "      <th>Step</th>\n",
              "      <th>Training Loss</th>\n",
              "    </tr>\n",
              "  </thead>\n",
              "  <tbody>\n",
              "  </tbody>\n",
              "</table><p>"
            ],
            "text/plain": [
              "<IPython.core.display.HTML object>"
            ]
          },
          "metadata": {},
          "output_type": "display_data"
        },
        {
          "name": "stderr",
          "output_type": "stream",
          "text": [
            "\n",
            "\n",
            "Training completed. Do not forget to share your model on huggingface.co/models =)\n",
            "\n",
            "\n"
          ]
        },
        {
          "data": {
            "application/vnd.jupyter.widget-view+json": {
              "model_id": "fa0ce3b0d9214409a2727045ba7ad717",
              "version_major": 2,
              "version_minor": 0
            },
            "text/plain": [
              "  0%|          | 0/1 [00:00<?, ?ba/s]"
            ]
          },
          "metadata": {},
          "output_type": "display_data"
        },
        {
          "name": "stderr",
          "output_type": "stream",
          "text": [
            "The following columns in the test set don't have a corresponding argument in `RobertaForSequenceClassification.forward` and have been ignored: text. If text are not expected by `RobertaForSequenceClassification.forward`,  you can safely ignore this message.\n",
            "***** Running Prediction *****\n",
            "  Num examples = 3\n",
            "  Batch size = 8\n"
          ]
        },
        {
          "data": {
            "text/html": [],
            "text/plain": [
              "<IPython.core.display.HTML object>"
            ]
          },
          "metadata": {},
          "output_type": "display_data"
        },
        {
          "data": {
            "text/plain": [
              "array([[0.5063088 , 0.5171989 , 0.5075089 , 0.48348302, 0.451609  ],\n",
              "       [0.5074933 , 0.5217197 , 0.5122858 , 0.4859028 , 0.4514132 ],\n",
              "       [0.508191  , 0.5170327 , 0.5082103 , 0.48727104, 0.45309764]],\n",
              "      dtype=float32)"
            ]
          },
          "execution_count": 42,
          "metadata": {},
          "output_type": "execute_result"
        }
      ],
      "source": [
        "model = AutoModelForSequenceClassification.from_pretrained(model_name, num_labels=5)\n",
        "trainer = ProbTrainer(model=model, train_dataset=datasetify(X, tokenizer, y))\n",
        "trainer.train()\n",
        "\n",
        "pred = trainer.predict_proba(datasetify(new_texts, tokenizer))\n",
        "pred"
      ]
    }
  ],
  "metadata": {
    "kernelspec": {
      "display_name": "Python3.9 (py39)",
      "language": "python",
      "name": "py39"
    },
    "language_info": {
      "codemirror_mode": {
        "name": "ipython",
        "version": 3
      },
      "file_extension": ".py",
      "mimetype": "text/x-python",
      "name": "python",
      "nbconvert_exporter": "python",
      "pygments_lexer": "ipython3",
      "version": "3.9.13"
    },
    "colab": {
      "provenance": []
    }
  },
  "nbformat": 4,
  "nbformat_minor": 0
}